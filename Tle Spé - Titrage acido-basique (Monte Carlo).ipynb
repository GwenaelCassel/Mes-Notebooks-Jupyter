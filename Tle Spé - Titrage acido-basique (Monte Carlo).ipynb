{
 "cells": [
  {
   "cell_type": "markdown",
   "metadata": {},
   "source": [
    "# On détaille ici un programme python permettant d'estimer l'incertitude-type sur la concentration massique $C_{massique}$ obtenue par un titrage acido-basique."
   ]
  },
  {
   "cell_type": "markdown",
   "metadata": {},
   "source": [
    "## Dans cet exercice il faudra :\n",
    "### Modifier les valeurs de la masse molaire $M$, du volume équivalent $V_{eq}$, du volume d'hydroxyde de sodium titré $V_0$ et de la concentration en acide versé $V_{acide}$.\n",
    "\n",
    "### Chaque partie de code est précédée d'un titre.\n",
    "### Certaines parties de code sont à modifier par vous, cela est indiqué par la mention $\\color {red} {\"A\\: VOUS\\: DE\\: JOUER\\,!\"}$ dans le titre de la partie."
   ]
  },
  {
   "cell_type": "markdown",
   "metadata": {},
   "source": [
    "## ETAPE 0 : On Initialise des bibliothèques python nécessaires."
   ]
  },
  {
   "cell_type": "code",
   "execution_count": 2,
   "metadata": {},
   "outputs": [],
   "source": [
    "import matplotlib.pyplot as plt #On charge la bibliothèque graphique\n",
    "import numpy as np #On charge une bibliothèque de calculs"
   ]
  },
  {
   "cell_type": "markdown",
   "metadata": {},
   "source": [
    "## ETAPE 1 : On définit une fonction Alea() qui renvoie une valeur aléatoire centrée sur la mesure expérimentale et d'écart-type l'incertitude-type sur la mesure."
   ]
  },
  {
   "cell_type": "code",
   "execution_count": 3,
   "metadata": {},
   "outputs": [],
   "source": [
    "def Alea(L):\n",
    "    tirage=np.random.normal() #Tirage entre -infini et +infini (loi normale)\n",
    "    return L[0]+L[1]*tirage #Renvoie une valeur aléatoire de la variable L[0] d'incertitude-type L[1]"
   ]
  },
  {
   "cell_type": "markdown",
   "metadata": {},
   "source": [
    "## ETAPE 2 : On précise des valeurs entrant dans le calcul de la concentration massique $C_{massique}$\n",
    "### On calcule la concentration massique à l'aide de la formule suivante :\n",
    "### $ C_{massique}=M \\times \\dfrac{V_{eq}}{V_0} \\times C_{acide} $\n",
    "### $M$ est la masse molaire l'hydroxyde de sodium, $V_{eq}$ est le volume versé à l'équivalence, $V_0$ est le volume de soude titré, $C_{acide}$ est la concentration en acide\n",
    "### $\\color {red} {\"A\\: VOUS\\: DE\\: JOUER\\,!\"}$\n",
    "### Compléter les valeurs manquantes ci-dessous."
   ]
  },
  {
   "cell_type": "code",
   "execution_count": 4,
   "metadata": {},
   "outputs": [],
   "source": [
    "M=[\"Modifier\",\"Modifier\"] #Liste contenant la masse molaire M (g/mol) et son incertitude-type\n",
    "Veq=[\"Modifier\",\"Modifier\"] #Liste contenant le volume équivalent Véq (mL) et son incertitude-type\n",
    "V_0=[\"Modifier\",\"Modifier\"] #Liste contenant le volume V0 (mL) de soude et son incertitude-type\n",
    "C_acide=[\"Modifier\",\"Modifier\"] #Liste contenant la concentration Cacide (mol/L) de l'acide et son incertitude-type"
   ]
  },
  {
   "cell_type": "markdown",
   "metadata": {},
   "source": [
    "# Etape 3 : Pour chaque ensemble de valeurs de $M$, $V_{eq}$, $V_0$ et $C_{acide}$ généré à l'étape 2, on calcule une valeur de $C_{massique}$ de concentration massique (Méthode de Monte-Carlo)."
   ]
  },
  {
   "cell_type": "code",
   "execution_count": 5,
   "metadata": {},
   "outputs": [
    {
     "ename": "SyntaxError",
     "evalue": "invalid syntax (<ipython-input-5-0bb743d0415c>, line 5)",
     "output_type": "error",
     "traceback": [
      "\u001b[0;36m  File \u001b[0;32m\"<ipython-input-5-0bb743d0415c>\"\u001b[0;36m, line \u001b[0;32m5\u001b[0m\n\u001b[0;31m    LCNaOH.append(AleaCNaOH) #On stocke la nouvelle valeur calculée dans la liste des valeurs calculées\u001b[0m\n\u001b[0m    ^\u001b[0m\n\u001b[0;31mSyntaxError\u001b[0m\u001b[0;31m:\u001b[0m invalid syntax\n"
     ]
    }
   ],
   "source": [
    "LCNaOH=[] #On crée une liste vide pour stocker les différentes valeurs de concentrations calculées\n",
    "Iteration=100000 #On choisit le nombre de valeurs calculées\n",
    "for j in range(Iteration): #Boucle de calcul des différentes valeurs de concentrations possibles\n",
    "    AleaCNaOH=Alea(M)*Alea(C_acide)*Alea(Veq)/Alea(V_0) #On calcule une valeur de concentration\n",
    "    LCNaOH.append(AleaCNaOH) #On stocke la nouvelle valeur calculée dans la liste des valeurs calculées"
   ]
  },
  {
   "cell_type": "markdown",
   "metadata": {},
   "source": [
    "# Etape 4 : On calcule la moyenne des valeurs calculées ainsi que son incertitude-type"
   ]
  },
  {
   "cell_type": "code",
   "execution_count": 39,
   "metadata": {},
   "outputs": [],
   "source": [
    "MoyCNaOH=sum(LCNaOH)/Iteration #On calcule la moyenne des valeurs calculées\n",
    "uCNaOH=(1/(Iteration-1)*sum((np.array(LCNaOH)-MoyCNaOH)**2.))**0.5 #On calcule l'incertitude-type sur les concentrations calculées"
   ]
  },
  {
   "cell_type": "markdown",
   "metadata": {},
   "source": [
    "# ETAPE 5 : On écrit les résultats obtenus et on imprime l'histogramme de répartition des valeurs."
   ]
  },
  {
   "cell_type": "code",
   "execution_count": 1,
   "metadata": {},
   "outputs": [
    {
     "ename": "NameError",
     "evalue": "name 'MoyCNaOH' is not defined",
     "output_type": "error",
     "traceback": [
      "\u001b[0;31m---------------------------------------------------------------------------\u001b[0m",
      "\u001b[0;31mNameError\u001b[0m                                 Traceback (most recent call last)",
      "\u001b[0;32m<ipython-input-1-cfaade196b97>\u001b[0m in \u001b[0;36m<module>\u001b[0;34m\u001b[0m\n\u001b[0;32m----> 1\u001b[0;31m \u001b[0mprint\u001b[0m\u001b[0;34m(\u001b[0m\u001b[0;34m'Préciser le nom de la grandeur affichée'\u001b[0m\u001b[0;34m,\u001b[0m \u001b[0mMoyCNaOH\u001b[0m\u001b[0;34m,\u001b[0m\u001b[0;34m'Préciser unité'\u001b[0m\u001b[0;34m)\u001b[0m \u001b[0;31m#On affiche la moyenne des valeurs calculées\u001b[0m\u001b[0;34m\u001b[0m\u001b[0;34m\u001b[0m\u001b[0m\n\u001b[0m\u001b[1;32m      2\u001b[0m \u001b[0mprint\u001b[0m\u001b[0;34m(\u001b[0m\u001b[0;34m'Préciser le nom de la grandeur affichée'\u001b[0m\u001b[0;34m,\u001b[0m \u001b[0muCNaOH\u001b[0m\u001b[0;34m,\u001b[0m\u001b[0;34m'Préciser unité'\u001b[0m\u001b[0;34m)\u001b[0m \u001b[0;31m#On affiche la valeur de l'incertitude-type sur les valeurs calculées\u001b[0m\u001b[0;34m\u001b[0m\u001b[0;34m\u001b[0m\u001b[0m\n\u001b[1;32m      3\u001b[0m \u001b[0mplt\u001b[0m\u001b[0;34m.\u001b[0m\u001b[0mhist\u001b[0m\u001b[0;34m(\u001b[0m\u001b[0mLCNaOH\u001b[0m\u001b[0;34m,\u001b[0m \u001b[0mrange\u001b[0m \u001b[0;34m=\u001b[0m \u001b[0;34m(\u001b[0m\u001b[0mMoyCNaOH\u001b[0m\u001b[0;34m-\u001b[0m\u001b[0;36m4\u001b[0m\u001b[0;34m*\u001b[0m\u001b[0muCNaOH\u001b[0m\u001b[0;34m,\u001b[0m \u001b[0mMoyCNaOH\u001b[0m\u001b[0;34m+\u001b[0m\u001b[0;36m4\u001b[0m\u001b[0;34m*\u001b[0m\u001b[0muCNaOH\u001b[0m\u001b[0;34m)\u001b[0m\u001b[0;34m,\u001b[0m \u001b[0mbins\u001b[0m \u001b[0;34m=\u001b[0m \u001b[0;36m50\u001b[0m\u001b[0;34m,\u001b[0m \u001b[0mcolor\u001b[0m \u001b[0;34m=\u001b[0m \u001b[0;34m'blue'\u001b[0m\u001b[0;34m,\u001b[0m \u001b[0medgecolor\u001b[0m \u001b[0;34m=\u001b[0m \u001b[0;34m'black'\u001b[0m\u001b[0;34m)\u001b[0m \u001b[0;31m#On génère l'hystogramme des valeurs de concentrations calculées\u001b[0m\u001b[0;34m\u001b[0m\u001b[0;34m\u001b[0m\u001b[0m\n\u001b[1;32m      4\u001b[0m \u001b[0mplt\u001b[0m\u001b[0;34m.\u001b[0m\u001b[0mtitle\u001b[0m\u001b[0;34m(\u001b[0m\u001b[0;34m'Pour '\u001b[0m \u001b[0;34m+\u001b[0m \u001b[0mstr\u001b[0m\u001b[0;34m(\u001b[0m\u001b[0mIteration\u001b[0m\u001b[0;34m)\u001b[0m \u001b[0;34m+\u001b[0m \u001b[0;34m'iterations'\u001b[0m\u001b[0;34m)\u001b[0m \u001b[0;31m#On génère le titre du graphique\u001b[0m\u001b[0;34m\u001b[0m\u001b[0;34m\u001b[0m\u001b[0m\n\u001b[1;32m      5\u001b[0m \u001b[0mplt\u001b[0m\u001b[0;34m.\u001b[0m\u001b[0mshow\u001b[0m\u001b[0;34m(\u001b[0m\u001b[0;34m)\u001b[0m \u001b[0;31m#On montre les éléments graphiques\u001b[0m\u001b[0;34m\u001b[0m\u001b[0;34m\u001b[0m\u001b[0m\n",
      "\u001b[0;31mNameError\u001b[0m: name 'MoyCNaOH' is not defined"
     ]
    }
   ],
   "source": [
    "print('Préciser le nom de la grandeur affichée', MoyCNaOH,'Préciser unité') #On affiche la moyenne des valeurs calculées\n",
    "print('Préciser le nom de la grandeur affichée', uCNaOH,'Préciser unité') #On affiche la valeur de l'incertitude-type sur les valeurs calculées\n",
    "plt.hist(LCNaOH, range = (MoyCNaOH-4*uCNaOH, MoyCNaOH+4*uCNaOH), bins = 50, color = 'blue', edgecolor = 'black') #On génère l'hystogramme des valeurs de concentrations calculées\n",
    "plt.title('Pour ' + str(Iteration) +' iterations') #On génère le titre du graphique\n",
    "plt.xlabel('C (g/L)') #On génère le nom de l'axe des abscisses\n",
    "plt.ylabel('Nombre de valeurs trouvées') #On génère le nom de l'axe des ordonnées\n",
    "plt.show() #On montre les éléments graphiques"
   ]
  },
  {
   "cell_type": "code",
   "execution_count": null,
   "metadata": {},
   "outputs": [],
   "source": []
  }
 ],
 "metadata": {
  "kernelspec": {
   "display_name": "Python 3",
   "language": "python",
   "name": "python3"
  },
  "language_info": {
   "codemirror_mode": {
    "name": "ipython",
    "version": 3
   },
   "file_extension": ".py",
   "mimetype": "text/x-python",
   "name": "python",
   "nbconvert_exporter": "python",
   "pygments_lexer": "ipython3",
   "version": "3.8.10"
  }
 },
 "nbformat": 4,
 "nbformat_minor": 4
}
