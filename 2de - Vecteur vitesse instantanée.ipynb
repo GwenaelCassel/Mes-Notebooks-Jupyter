{
 "cells": [
  {
   "cell_type": "markdown",
   "metadata": {},
   "source": [
    "# On détaille ici un programme python affichant les différentes positions de la masse d'un pendule ainsi que les vecteurs vitesse et variations de vitesse de la masse.\n"
   ]
  },
  {
   "cell_type": "markdown",
   "metadata": {},
   "source": [
    "## Dans cet exercice il faudra :\n",
    "###     1. Compléter les listes des coordonnées des positions au cours du temps\n",
    "###     2. Compléter les formules permettant de calculer les vecteurs vitesse"
   ]
  },
  {
   "cell_type": "markdown",
   "metadata": {},
   "source": [
    "### Chaque partie de code est précédée d'un titre.\n",
    "### Certaines parties de code sont à modifier par vous, cela est indiqué par la mention \"A VOUS DE JOUER !\" dans le titre de la partie."
   ]
  },
  {
   "cell_type": "markdown",
   "metadata": {},
   "source": [
    "## ETAPE 0 : Initialisation des bibliothèques python nécessaires"
   ]
  },
  {
   "cell_type": "code",
   "execution_count": 1,
   "metadata": {},
   "outputs": [],
   "source": [
    "%matplotlib inline\n",
    "import matplotlib.pyplot as plt\n",
    "import numpy as np\n",
    "#import math"
   ]
  },
  {
   "cell_type": "code",
   "execution_count": 2,
   "metadata": {},
   "outputs": [],
   "source": [
    "plt.close() # On ferme les fenêtres graphiques éventuellement ouvertes."
   ]
  },
  {
   "cell_type": "markdown",
   "metadata": {},
   "source": [
    "## ETAPE 1 : On entre les coordonnées des valeurs expérimentales."
   ]
  },
  {
   "cell_type": "markdown",
   "metadata": {},
   "source": [
    "### A VOUS DE JOUER !\n",
    "### 1. dans l'ordre de numérotation et en mètre, compléter les listes x et y ci-dessous\n",
    "### 2. Préciser la valeur de l'écart de temps delta_t entre chaque point, la valeur est en seconde."
   ]
  },
  {
   "cell_type": "code",
   "execution_count": 18,
   "metadata": {},
   "outputs": [],
   "source": [
    "x = [1,1,1,1]\n",
    "y = [10, 9, 7, 3]\n",
    "delta_t = 0.04"
   ]
  },
  {
   "cell_type": "markdown",
   "metadata": {},
   "source": [
    "## ETAPE 2 : On trace le graphique représentant la position des différents points."
   ]
  },
  {
   "cell_type": "markdown",
   "metadata": {},
   "source": [
    "### A VOUS DE JOUER !\n",
    "### Compléter le titre du graphique ainsi que les noms des axes avec leur unité."
   ]
  },
  {
   "cell_type": "code",
   "execution_count": 19,
   "metadata": {},
   "outputs": [
    {
     "name": "stderr",
     "output_type": "stream",
     "text": [
      "<ipython-input-19-c63529152d28>:8: UserWarning: Attempting to set identical left == right == 1 results in singular transformations; automatically expanding.\n",
      "  plt.xlim(abs_debut, abs_fin) #Définit le début et la fin des abscisses.\n"
     ]
    },
    {
     "data": {
      "image/png": "[encoded data removed]",
      "text/plain": [
       "<Figure size 864x576 with 1 Axes>"
      ]
     },
     "metadata": {
      "needs_background": "light"
     },
     "output_type": "display_data"
    }
   ],
   "source": [
    "abs_debut = min(x) #Abscisse de début du graphique\n",
    "abs_fin =max(x) #Abscisse de fin du graphique\n",
    "plt.figure(figsize=(12,8)) #Définit la taille de l'affichage du graphique\n",
    "plt.grid() # Affiche une grille sur le graphique\n",
    "plt.title(\"Titre du graphique\", size=22) #Définit le titre du graphique\n",
    "plt.ylabel(\"Nom de l'axe et unité\", size=18) #Affiche le titre des ordonnées\n",
    "plt.xlabel(\"Nom de l'axe et unité\", size=18) #Affiche le titre des abscisses\n",
    "plt.xlim(abs_debut, abs_fin) #Définit le début et la fin des abscisses.\n",
    "#plt.axis('equal') #Les axes sont orthonormés\n",
    "plt.plot(x, y, 'o', color ='blue', label = 'Positions pointées') #Affiche les points expérimentaux\n",
    "plt.legend(fontsize=18)# Affiche la légende\n",
    "plt.show() #Affiche le graphique"
   ]
  },
  {
   "cell_type": "markdown",
   "metadata": {},
   "source": [
    "## ETAPE 3 : Ajout des vecteurs vitesse sur le graphique"
   ]
  },
  {
   "cell_type": "markdown",
   "metadata": {},
   "source": [
    " ### 1. Calcul des coordonnées des vecteurs vitesse"
   ]
  },
  {
   "cell_type": "markdown",
   "metadata": {},
   "source": [
    "Les coordonnées v_x et v_z des vecteurs vitesse du point \"i\" se calculent par les formules suivantes :\n",
    "\n",
    "$v_{x}[i] = \\dfrac{x_{[i+1]} - x_{[i]}} {\\Delta t}$\n",
    "\n",
    "$v_{z}[i] = \\dfrac{y_{[i+1]} - y_{[i]}} {\\Delta t}$"
   ]
  },
  {
   "cell_type": "markdown",
   "metadata": {},
   "source": [
    " ### 2. Définition de la fonction de calcul des coordonnées des vecteurs vitesse"
   ]
  },
  {
   "cell_type": "markdown",
   "metadata": {},
   "source": [
    "### A VOUS DE JOUER !\n",
    "### A l'aide de l'expression de vz donnée ci-dessus dans le 1. et du calcul de vx donné dans la fonction \"vitesse\" ci-dessous , compléter la formule pour calculer vz"
   ]
  },
  {
   "cell_type": "code",
   "execution_count": 20,
   "metadata": {},
   "outputs": [],
   "source": [
    "def vitesse(x, y, delta_t): #la fonction se nomme vitesse\n",
    "    \n",
    "    vx = []\n",
    "    for i in range(0, len(x)-1): #création de la liste vx\n",
    "        vx.append((x[i+1]-x[i])/delta_t)\n",
    "        \n",
    "    vy = []\n",
    "    for j in range(0, len(y)-1): #création de la liste vy\n",
    "        vy.append((y[j+1]-y[j])/delta_t)\n",
    "  \n",
    "    return vx, vy"
   ]
  },
  {
   "cell_type": "markdown",
   "metadata": {},
   "source": [
    "### 3. Tracé des vecteurs vitesse sur le graphique"
   ]
  },
  {
   "cell_type": "code",
   "execution_count": 21,
   "metadata": {},
   "outputs": [],
   "source": [
    "vx, vy = vitesse(x, y, delta_t) #La fonction vitesse() retourne deux listes stockées dans vx et vy"
   ]
  },
  {
   "cell_type": "markdown",
   "metadata": {},
   "source": [
    "### A VOUS DE JOUER !\n",
    "### Compléter le titre du graphique ainsi que les noms des axes avec leur unité."
   ]
  },
  {
   "cell_type": "code",
   "execution_count": 22,
   "metadata": {},
   "outputs": [
    {
     "name": "stderr",
     "output_type": "stream",
     "text": [
      "<ipython-input-22-7bc163797315>:6: UserWarning: Attempting to set identical left == right == 1 results in singular transformations; automatically expanding.\n",
      "  plt.xlim(abs_debut, abs_fin) #Définit le début et la fin des abscisses.\n"
     ]
    },
    {
     "data": {
      "image/png": "[encoded data removed]",
      "text/plain": [
       "<Figure size 864x576 with 1 Axes>"
      ]
     },
     "metadata": {
      "needs_background": "light"
     },
     "output_type": "display_data"
    }
   ],
   "source": [
    "plt.figure(figsize=(12,8)) #Définit la taille de l'affichage du graphique\n",
    "plt.grid() # Affiche une grille sur le graphique\n",
    "plt.title(\"Titre du graphique\", size=22) #Définit le titre du graphique\n",
    "plt.ylabel(\"Nom de l'axe avec son unité\", size=18) #Affiche le titre des ordonnées\n",
    "plt.xlabel(\"Nom de l'axe avec son unité\", size=18) #Affiche le titre des abscisses\n",
    "plt.xlim(abs_debut, abs_fin) #Définit le début et la fin des abscisses.\n",
    "#plt.axis('equal') #Les axes sont orthonormés\n",
    "plt.plot(x, y, 'o', color ='blue', label = 'Positions pointées') #Affiche les points expérimentaux\n",
    "plt.legend(fontsize=18)# Affiche la légende\n",
    "\n",
    "for k in range (len(vx)):# ajout des vecteurs vitesse en rouge\n",
    "    plt.quiver(x[k], y[k], vx[k], vy[k], scale=70, scale_units='xy', color='red', angles='xy')\n"
   ]
  },
  {
   "cell_type": "code",
   "execution_count": null,
   "metadata": {},
   "outputs": [],
   "source": []
  },
  {
   "cell_type": "code",
   "execution_count": null,
   "metadata": {},
   "outputs": [],
   "source": []
  }
 ],
 "metadata": {
  "kernelspec": {
   "display_name": "Python 3",
   "language": "python",
   "name": "python3"
  },
  "language_info": {
   "codemirror_mode": {
    "name": "ipython",
    "version": 3
   },
   "file_extension": ".py",
   "mimetype": "text/x-python",
   "name": "python",
   "nbconvert_exporter": "python",
   "pygments_lexer": "ipython3",
   "version": "3.8.5"
  }
 },
 "nbformat": 4,
 "nbformat_minor": 4
}
