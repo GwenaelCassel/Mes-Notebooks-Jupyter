{
 "cells": [
  {
   "cell_type": "markdown",
   "metadata": {},
   "source": [
    "# Programme affichant les points expérimentaux R = f(T).\n",
    "# La répartition est modélisée par une courbe"
   ]
  },
  {
   "cell_type": "markdown",
   "metadata": {},
   "source": [
    "### Il faut :\n",
    "####   1. Compléter les listes R et T avec les valeurs expérimentales.\n",
    "####   2. Modifier certains champs pour ajouter un titre et les grandeurs avec leurs unités.\n",
    "####   3. Lancer le programme.\n",
    "####   4. Faire une copie d’écran du graphique obtenu."
   ]
  },
  {
   "cell_type": "markdown",
   "metadata": {},
   "source": [
    "### Chaque partie de code est précédée d'un titre.\n",
    "### Certaines parties de code sont à modifier par vous, cela est indiqué par la mention \"A VOUS DE JOUER\" dans le titre de la partie."
   ]
  },
  {
   "cell_type": "markdown",
   "metadata": {},
   "source": [
    "### ETAPE 0 : Initialisation des bibliothèques python nécessaires."
   ]
  },
  {
   "cell_type": "code",
   "execution_count": 1,
   "metadata": {},
   "outputs": [],
   "source": [
    "%matplotlib inline\n",
    "import matplotlib.pyplot as plt\n",
    "import numpy as np\n",
    "from scipy.optimize import curve_fit\n",
    "\n",
    "plt.close() #On ferme les fenêtres graphiques éventuellement ouvertes."
   ]
  },
  {
   "cell_type": "markdown",
   "metadata": {},
   "source": [
    "### ETAPE 1 : Entrée des valeurs expérimentales de la température T et de la résistance R (en Ohm)"
   ]
  },
  {
   "cell_type": "markdown",
   "metadata": {},
   "source": [
    "### A VOUS DE JOUER : compléter les listes de valeurs de température T et de résistance R (Ohm), les valeurs sont séparées par des virgules."
   ]
  },
  {
   "cell_type": "code",
   "execution_count": 2,
   "metadata": {},
   "outputs": [],
   "source": [
    "T = [] #liste des valeurs des températures\n",
    "R = [] #liste des valeurs des résistances en Ohm"
   ]
  },
  {
   "cell_type": "markdown",
   "metadata": {},
   "source": [
    "### ETAPE 2 : On modélise la répartition des points par une courbe"
   ]
  },
  {
   "cell_type": "code",
   "execution_count": 7,
   "metadata": {},
   "outputs": [],
   "source": [
    "def modele(x, A, B): # Définition de la fonction de modélisation\n",
    "    y = A * np.exp(B/(x+273))\n",
    "    return y\n",
    "\n",
    "unpeu_x = (max(T) - min(T)) / 10\n",
    "unpeu_y = (max(R) - min(R)) / 10\n",
    "\n",
    "x_mod_min = 0 #Abscisse de début de la courbe modèle\n",
    "x_mod_max = max(T) + unpeu_x #Abscisse de fin de la courbe modèle\n",
    "\n",
    "X_modele = np.linspace(x_mod_min, x_mod_max, 100) #On génère les abscisses du modèle, unpeu permet d'obtenir une courbe qui dépasse à droite et à gauche\n",
    "\n",
    "valeurs, covar = curve_fit(modele, T, R) # On calcule les meilleurs valeurs de a et b pour l'ajustement\n",
    "\n",
    "y_mod_min = 0\n",
    "y_mod_max = valeurs[0]*x_mod_max + valeurs[1]\n",
    "\n",
    "Y_modele = modele(X_modele, valeurs[0], valeurs[1]) # On génère les ordonnées du modèle avec les valeurs de a et b adaptées"
   ]
  },
  {
   "cell_type": "markdown",
   "metadata": {},
   "source": [
    "### ETAPE 3 : On définit les limites des valeurs minimales et maximales de la fenêtre graphique."
   ]
  },
  {
   "cell_type": "code",
   "execution_count": 5,
   "metadata": {},
   "outputs": [],
   "source": [
    "x_graph_min = 0 # abscisse minimale de la fenêtre graphique\n",
    "x_graph_max = x_mod_max + unpeu_x # abscisse maximale de la fenêtre graphique\n",
    "\n",
    "y_graph_min = 0 # ordonnée minimale de la fenêtre graphique\n",
    "y_graph_max = y_mod_max + unpeu_y # ordonnée maximale de la fenêtre graphique"
   ]
  },
  {
   "cell_type": "markdown",
   "metadata": {},
   "source": [
    "### ETAPE 4 : On trace le graphique R = f(T)"
   ]
  },
  {
   "cell_type": "markdown",
   "metadata": {},
   "source": [
    "### A VOUS DE JOUER : donner un titre au graphique et un nom aux axes avec leurs unités."
   ]
  },
  {
   "cell_type": "code",
   "execution_count": 1,
   "metadata": {},
   "outputs": [
    {
     "ename": "NameError",
     "evalue": "name 'plt' is not defined",
     "output_type": "error",
     "traceback": [
      "\u001b[0;31m---------------------------------------------------------------------------\u001b[0m",
      "\u001b[0;31mNameError\u001b[0m                                 Traceback (most recent call last)",
      "\u001b[0;32m<ipython-input-1-bfd2781a174b>\u001b[0m in \u001b[0;36m<module>\u001b[0;34m\u001b[0m\n\u001b[0;32m----> 1\u001b[0;31m \u001b[0mplt\u001b[0m\u001b[0;34m.\u001b[0m\u001b[0mfigure\u001b[0m\u001b[0;34m(\u001b[0m\u001b[0mfigsize\u001b[0m\u001b[0;34m=\u001b[0m\u001b[0;34m(\u001b[0m\u001b[0;36m12\u001b[0m\u001b[0;34m,\u001b[0m\u001b[0;36m8\u001b[0m\u001b[0;34m)\u001b[0m\u001b[0;34m)\u001b[0m\u001b[0;34m\u001b[0m\u001b[0;34m\u001b[0m\u001b[0m\n\u001b[0m\u001b[1;32m      2\u001b[0m \u001b[0mplt\u001b[0m\u001b[0;34m.\u001b[0m\u001b[0mtitle\u001b[0m\u001b[0;34m(\u001b[0m\u001b[0;34m\"Titre\"\u001b[0m\u001b[0;34m,\u001b[0m \u001b[0msize\u001b[0m\u001b[0;34m=\u001b[0m\u001b[0;36m18\u001b[0m\u001b[0;34m)\u001b[0m \u001b[0;31m# Affiche le titre du graphique\u001b[0m\u001b[0;34m\u001b[0m\u001b[0;34m\u001b[0m\u001b[0m\n\u001b[1;32m      3\u001b[0m \u001b[0mplt\u001b[0m\u001b[0;34m.\u001b[0m\u001b[0mylabel\u001b[0m\u001b[0;34m(\u001b[0m\u001b[0;34m\"Nom de l'axe des ordonnées\"\u001b[0m\u001b[0;34m,\u001b[0m\u001b[0msize\u001b[0m\u001b[0;34m=\u001b[0m\u001b[0;36m14\u001b[0m\u001b[0;34m)\u001b[0m \u001b[0;31m# Affiche le nom de l’axe des ordonnées (vertical)\u001b[0m\u001b[0;34m\u001b[0m\u001b[0;34m\u001b[0m\u001b[0m\n\u001b[1;32m      4\u001b[0m \u001b[0mplt\u001b[0m\u001b[0;34m.\u001b[0m\u001b[0mxlabel\u001b[0m\u001b[0;34m(\u001b[0m\u001b[0;34m\"Nom de l'axe des abscisses\"\u001b[0m\u001b[0;34m,\u001b[0m \u001b[0msize\u001b[0m\u001b[0;34m=\u001b[0m\u001b[0;36m14\u001b[0m\u001b[0;34m)\u001b[0m \u001b[0;31m# Affiche le nom de l’axe des abscisses (horizontal)\u001b[0m\u001b[0;34m\u001b[0m\u001b[0;34m\u001b[0m\u001b[0m\n\u001b[1;32m      5\u001b[0m \u001b[0;34m\u001b[0m\u001b[0m\n",
      "\u001b[0;31mNameError\u001b[0m: name 'plt' is not defined"
     ]
    }
   ],
   "source": [
    "plt.figure(figsize=(12,8))\n",
    "plt.title(\"Titre\", size=18) # Affiche le titre du graphique\n",
    "plt.ylabel(\"Nom de l'axe des ordonnées\",size=14) # Affiche le nom de l’axe des ordonnées (vertical)\n",
    "plt.xlabel(\"Nom de l'axe des abscisses\", size=14) # Affiche le nom de l’axe des abscisses (horizontal)\n",
    "\n",
    "plt.grid(linestyle='--') # Le cadrillage doit être affiché sous forme de tirets\n",
    "plt.xlim(x_graph_min, x_graph_max) # On précise les limites en abscisses de la fenêtre graphique (horizontal)\n",
    "plt.ylim(y_graph_min, y_graph_max)# On précise les limites en ordonnées de la fenêtre graphique (vertical)\n",
    "plt.plot(T, R, 'o', color ='red', label = 'Points issus de la mesure') # Affiche les points expérimentaux\n",
    "plt.plot(X_modele, Y_modele, label = 'Modèle') # Affiche le modèle mathématique\n",
    "plt.legend(fontsize=18) # Affiche la légende du graphique\n",
    "plt.show() # Affiche le graphique"
   ]
  }
 ],
 "metadata": {
  "kernelspec": {
   "display_name": "Python 3",
   "language": "python",
   "name": "python3"
  },
  "language_info": {
   "codemirror_mode": {
    "name": "ipython",
    "version": 3
   },
   "file_extension": ".py",
   "mimetype": "text/x-python",
   "name": "python",
   "nbconvert_exporter": "python",
   "pygments_lexer": "ipython3",
   "version": "3.8.5"
  }
 },
 "nbformat": 4,
 "nbformat_minor": 4
}
