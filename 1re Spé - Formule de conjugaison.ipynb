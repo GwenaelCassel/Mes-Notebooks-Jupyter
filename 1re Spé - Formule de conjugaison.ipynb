{
 "cells": [
  {
   "cell_type": "markdown",
   "metadata": {},
   "source": [
    "#-----------------------------------------------------------------------------\n",
    "# Programme affichant les points expérimentaux 1/OA' = f(1/OA).\n",
    "# La répartition est modélisée par une droite linéaire de la forme\n",
    "# Y_modele = a x X_modele + b\n",
    "# Il faut :\n",
    "#          1. Compléter les listes OA' et OA avec les valeurs expérimentales en valeurs algébriques.\n",
    "#          2. Ajuster la valeur du coefficient directeur \"a\"\n",
    "#             et de l'ordonnée à l'origine \"b\" pour faire correspondre au mieux le modèle\n",
    "#             aux points expérimentaux.\n",
    "#-----------------------------------------------------------------------------"
   ]
  },
  {
   "cell_type": "markdown",
   "metadata": {},
   "source": [
    "## ETAPE 0 : Initialisation"
   ]
  },
  {
   "cell_type": "code",
   "execution_count": 2,
   "metadata": {},
   "outputs": [],
   "source": [
    "import matplotlib.pyplot as plt\n",
    "import numpy as np"
   ]
  },
  {
   "cell_type": "code",
   "execution_count": 3,
   "metadata": {},
   "outputs": [],
   "source": [
    "plt.close() # On ferme les fenêtres graphiques éventuellement ouvertes."
   ]
  },
  {
   "cell_type": "markdown",
   "metadata": {},
   "source": [
    "## ETAPE 1 : On entre les coordonnées des valeurs expérimentales."
   ]
  },
  {
   "cell_type": "code",
   "execution_count": 4,
   "metadata": {},
   "outputs": [
    {
     "data": {
      "text/plain": [
       "\"En valeurs algébriques et en cm, compléter les listes OA' et OA ci-dessous avec les valeurs OA' et OA expérimentales, les valeurs sont séparées par une virgule.\""
      ]
     },
     "execution_count": 4,
     "metadata": {},
     "output_type": "execute_result"
    }
   ],
   "source": [
    "\"En valeurs algébriques et en cm, compléter les listes OA' et OA ci-dessous avec les valeurs OA' et OA expérimentales, les valeurs sont séparées par une virgule.\""
   ]
  },
  {
   "cell_type": "code",
   "execution_count": 5,
   "metadata": {},
   "outputs": [],
   "source": [
    "OA_prime = [28, 30, 36, 40, 60, 100]\n",
    "OA = [-80, -60, -45, -40, -30, -25]"
   ]
  },
  {
   "cell_type": "markdown",
   "metadata": {},
   "source": [
    "## ETAPE 2 : Conversion des données en mètre"
   ]
  },
  {
   "cell_type": "markdown",
   "metadata": {},
   "source": [
    "   ### 1. Définition de la fonction de conversion"
   ]
  },
  {
   "cell_type": "code",
   "execution_count": 6,
   "metadata": {},
   "outputs": [],
   "source": [
    "def conv_metre(liste):\n",
    "    convliste=[]\n",
    "    for i in liste:\n",
    "        convt = i / 100\n",
    "        convliste.extend([convt])\n",
    "    return convliste"
   ]
  },
  {
   "cell_type": "markdown",
   "metadata": {},
   "source": [
    "   ### 2. Conversion"
   ]
  },
  {
   "cell_type": "code",
   "execution_count": null,
   "metadata": {},
   "outputs": [],
   "source": [
    "convOAprime = conv_metre(OA_prime)\n",
    "convOA = conv_metre(OA)"
   ]
  },
  {
   "cell_type": "markdown",
   "metadata": {},
   "source": [
    "## ETAPE 3 : Calcul des inverses des listes OA' et OA (valeurs algébriques)"
   ]
  },
  {
   "cell_type": "markdown",
   "metadata": {},
   "source": [
    " ### 1. Définition de la fonction de calcul"
   ]
  },
  {
   "cell_type": "code",
   "execution_count": 7,
   "metadata": {},
   "outputs": [],
   "source": [
    "def inv_liste(liste):\n",
    "    invliste=[]\n",
    "    for i in liste:\n",
    "        invt = 1 / i\n",
    "        invliste.extend([invt])  \n",
    "    return invliste"
   ]
  },
  {
   "cell_type": "markdown",
   "metadata": {},
   "source": [
    " ### 2. Calcul"
   ]
  },
  {
   "cell_type": "code",
   "execution_count": null,
   "metadata": {},
   "outputs": [],
   "source": [
    "invOAprime = inv_liste(convOAprime)\n",
    "invOA = inv_liste(convOA)"
   ]
  },
  {
   "cell_type": "markdown",
   "metadata": {},
   "source": [
    "## ETAPE 4 : On modélise la répartition des points par une droite affine de la forme y = ax + b"
   ]
  },
  {
   "cell_type": "code",
   "execution_count": 8,
   "metadata": {},
   "outputs": [
    {
     "data": {
      "text/plain": [
       "\"Modifier les valeurs coefficients a et b pour que le modèle affine corresponde le mieux à l'expérience \""
      ]
     },
     "execution_count": 8,
     "metadata": {},
     "output_type": "execute_result"
    }
   ],
   "source": [
    "\"Modifier les valeurs coefficients a et b pour que le modèle affine corresponde le mieux à l'expérience \""
   ]
  },
  {
   "cell_type": "code",
   "execution_count": 9,
   "metadata": {},
   "outputs": [],
   "source": [
    "a = 1 #Valeur du coefficient directeur de la droite modèle\n",
    "b = 4.9 #Valeur de l'ordonnée à l'origine\n",
    "\n",
    "abs_debut = min(invOA)*1.1 #Abscisse de début du graphique\n",
    "abs_fin = max(invOA)*1.1 #Abscisse de fin du graphique\n",
    "pas = (abs_fin - abs_debut) / 100 #pas générant les abscisses du mmodèle\n",
    "\n",
    "X_modele = np.arange(abs_debut, abs_fin + 10 * pas, pas) #On génère les abscisses du modèl\n",
    "                                                        # 10 x pas permet d'obtenir une droite qui dépasse à droite\n",
    "for i in X_modele:\n",
    "    Y_modele = a * X_modele + b #On génère les ordonnées du modèle"
   ]
  },
  {
   "cell_type": "markdown",
   "metadata": {},
   "source": [
    "## ETAPE 5 : On trace le graphique contenant les points expérimentaux et le modèle"
   ]
  },
  {
   "cell_type": "code",
   "execution_count": 10,
   "metadata": {},
   "outputs": [
    {
     "data": {
      "image/png": "[encoded data removed]",
      "text/plain": [
       "<Figure size 432x288 with 1 Axes>"
      ]
     },
     "metadata": {
      "needs_background": "light"
     },
     "output_type": "display_data"
    }
   ],
   "source": [
    "plt.grid() # Affiche une grille sur le graphique\n",
    "plt.title(\"1/OA' en fonction de 1/OA\") #Définit le titre du graphique\n",
    "plt.ylabel(\"1/OA' en m^-1\") #Affiche le label ordonnées\n",
    "plt.xlabel(\"1/OA en m^-1\") #Affiche le label abscisses\n",
    "plt.plot(invOA, invOAprime, 'o', color ='red', label = 'Points issus de la mesure') #Affiche les points expérimentaux\n",
    "plt.plot(X_modele, Y_modele, label = 'Modèle') #Affiche le modèle mathématique, ici une droite linéaire\n",
    "plt.xlim(min(invOA)-0.5, max(invOA)+0.5)\n",
    "plt.ylim(min(invOAprime)-0.5, max(invOAprime)+0.5)\n",
    "plt.legend(loc=\"upper left\") #Affiche la légende du graphique\n",
    "plt.show() #Affiche le graphique"
   ]
  },
  {
   "cell_type": "code",
   "execution_count": null,
   "metadata": {},
   "outputs": [],
   "source": []
  }
 ],
 "metadata": {
  "kernelspec": {
   "display_name": "Python 3",
   "language": "python",
   "name": "python3"
  },
  "language_info": {
   "codemirror_mode": {
    "name": "ipython",
    "version": 3
   },
   "file_extension": ".py",
   "mimetype": "text/x-python",
   "name": "python",
   "nbconvert_exporter": "python",
   "pygments_lexer": "ipython3",
   "version": "3.8.5"
  }
 },
 "nbformat": 4,
 "nbformat_minor": 4
}
