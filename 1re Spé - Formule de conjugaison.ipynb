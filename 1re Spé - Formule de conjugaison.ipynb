{
 "cells": [
  {
   "cell_type": "markdown",
   "metadata": {},
   "source": [
    "# On détaille ici un programme python affichant les points expérimentaux des mesures 1/OA' = f(1/OA) (en grandeurs algébriques).\n",
    "### Dans cet exercice il faudra :\n",
    "###     1. Compléter les listes OA' et OA avec les valeurs expérimentales en valeurs algébriques.\n",
    "###     2. Ajuster la valeur du coefficient directeur \"a\" et de l'ordonnée à l'origine \"b\" pour faire correspondre au mieux le modèle aux points expérimentaux."
   ]
  },
  {
   "cell_type": "markdown",
   "metadata": {},
   "source": [
    "### Chaque partie de code est précédée d'un titre.\n",
    "### Certaines parties de code sont à modifier par vous, cela est indiqué par la mention $\\color {red} {\"A\\: VOUS\\: DE\\: JOUER\\,!\"}$ dans le titre de la partie."
   ]
  },
  {
   "cell_type": "markdown",
   "metadata": {},
   "source": [
    "## ETAPE 0 : Initialisation des bibliothèques python nécessaires"
   ]
  },
  {
   "cell_type": "code",
   "execution_count": 1,
   "metadata": {},
   "outputs": [],
   "source": [
    "import matplotlib.pyplot as plt\n",
    "import numpy as np\n",
    "import math"
   ]
  },
  {
   "cell_type": "code",
   "execution_count": 2,
   "metadata": {},
   "outputs": [],
   "source": [
    "plt.close() # On ferme les fenêtres graphiques éventuellement ouvertes."
   ]
  },
  {
   "cell_type": "markdown",
   "metadata": {},
   "source": [
    "## ETAPE 1 : On entre les coordonnées des valeurs expérimentales."
   ]
  },
  {
   "cell_type": "markdown",
   "metadata": {},
   "source": [
    "### $\\color {red} {\"A\\: VOUS\\: DE\\: JOUER\\,!\"}$ \n",
    "### En valeurs algébriques et en cm, compléter les listes OA' et OA ci-dessous avec les valeurs OA' et OA expérimentales, les valeurs sont séparées par une virgule."
   ]
  },
  {
   "cell_type": "code",
   "execution_count": 3,
   "metadata": {},
   "outputs": [],
   "source": [
    "OA_prime_cm = np.array([]) #Liste contenant les valeurs de OA' en cm\n",
    "OA_cm = np.array([]) #Liste contenant les valeurs de OA en cm"
   ]
  },
  {
   "cell_type": "markdown",
   "metadata": {},
   "source": [
    "## ETAPE 2 : Conversion des données en mètre"
   ]
  },
  {
   "cell_type": "markdown",
   "metadata": {},
   "source": [
    "### $\\color {red} {\"A\\: VOUS\\: DE\\: JOUER\\,!\"}$ \n",
    "### Ecrire la valeur du facteur de conversion pour passer de centimètre à mètre."
   ]
  },
  {
   "cell_type": "code",
   "execution_count": 4,
   "metadata": {},
   "outputs": [
    {
     "ename": "UFuncTypeError",
     "evalue": "ufunc 'multiply' did not contain a loop with signature matching types (dtype('<U32'), dtype('<U32')) -> dtype('<U32')",
     "output_type": "error",
     "traceback": [
      "\u001b[0;31m---------------------------------------------------------------------------\u001b[0m",
      "\u001b[0;31mUFuncTypeError\u001b[0m                            Traceback (most recent call last)",
      "\u001b[0;32m<ipython-input-4-e68f2403c8ce>\u001b[0m in \u001b[0;36m<module>\u001b[0;34m\u001b[0m\n\u001b[0;32m----> 1\u001b[0;31m \u001b[0mOA_prime_m\u001b[0m \u001b[0;34m=\u001b[0m \u001b[0mOA_prime_cm\u001b[0m \u001b[0;34m*\u001b[0m \u001b[0;34m\"A modifier\"\u001b[0m\u001b[0;34m\u001b[0m\u001b[0;34m\u001b[0m\u001b[0m\n\u001b[0m\u001b[1;32m      2\u001b[0m \u001b[0mOA_m\u001b[0m \u001b[0;34m=\u001b[0m \u001b[0mOA_cm\u001b[0m \u001b[0;34m*\u001b[0m \u001b[0;34m\"A modifier\"\u001b[0m\u001b[0;34m\u001b[0m\u001b[0;34m\u001b[0m\u001b[0m\n",
      "\u001b[0;31mUFuncTypeError\u001b[0m: ufunc 'multiply' did not contain a loop with signature matching types (dtype('<U32'), dtype('<U32')) -> dtype('<U32')"
     ]
    }
   ],
   "source": [
    "OA_prime_m = OA_prime_cm * \"A modifier\"\n",
    "OA_m = OA_cm * \"A modifier\""
   ]
  },
  {
   "cell_type": "markdown",
   "metadata": {},
   "source": [
    "## ETAPE 3: On modélise la répartition des points par une droite affine de la forme y = ax + b"
   ]
  },
  {
   "cell_type": "code",
   "execution_count": 5,
   "metadata": {},
   "outputs": [
    {
     "ename": "NameError",
     "evalue": "name 'OA_m' is not defined",
     "output_type": "error",
     "traceback": [
      "\u001b[0;31m---------------------------------------------------------------------------\u001b[0m",
      "\u001b[0;31mNameError\u001b[0m                                 Traceback (most recent call last)",
      "\u001b[0;32m<ipython-input-5-bea249e0a716>\u001b[0m in \u001b[0;36m<module>\u001b[0;34m\u001b[0m\n\u001b[1;32m      2\u001b[0m \u001b[0mb\u001b[0m \u001b[0;34m=\u001b[0m \u001b[0;36m5\u001b[0m \u001b[0;31m#Valeur de l'ordonnée à l'origine de la droite modèle\u001b[0m\u001b[0;34m\u001b[0m\u001b[0;34m\u001b[0m\u001b[0m\n\u001b[1;32m      3\u001b[0m \u001b[0;34m\u001b[0m\u001b[0m\n\u001b[0;32m----> 4\u001b[0;31m \u001b[0mpas\u001b[0m \u001b[0;34m=\u001b[0m \u001b[0;34m(\u001b[0m\u001b[0mmax\u001b[0m\u001b[0;34m(\u001b[0m\u001b[0;36m1\u001b[0m\u001b[0;34m/\u001b[0m\u001b[0mOA_m\u001b[0m\u001b[0;34m)\u001b[0m\u001b[0;34m-\u001b[0m\u001b[0mmin\u001b[0m\u001b[0;34m(\u001b[0m\u001b[0;36m1\u001b[0m\u001b[0;34m/\u001b[0m\u001b[0mOA_m\u001b[0m\u001b[0;34m)\u001b[0m\u001b[0;34m)\u001b[0m\u001b[0;34m/\u001b[0m\u001b[0;36m100\u001b[0m \u001b[0;31m#pas générant les abscisses du mmodèle\u001b[0m\u001b[0;34m\u001b[0m\u001b[0;34m\u001b[0m\u001b[0m\n\u001b[0m\u001b[1;32m      5\u001b[0m \u001b[0;34m\u001b[0m\u001b[0m\n\u001b[1;32m      6\u001b[0m \u001b[0mabs_debut\u001b[0m \u001b[0;34m=\u001b[0m \u001b[0mmin\u001b[0m\u001b[0;34m(\u001b[0m\u001b[0;36m1\u001b[0m\u001b[0;34m/\u001b[0m\u001b[0mOA_m\u001b[0m\u001b[0;34m)\u001b[0m \u001b[0;34m-\u001b[0m \u001b[0;36m100\u001b[0m \u001b[0;34m*\u001b[0m \u001b[0mpas\u001b[0m \u001b[0;31m#Abscisse de début du graphique\u001b[0m\u001b[0;34m\u001b[0m\u001b[0;34m\u001b[0m\u001b[0m\n",
      "\u001b[0;31mNameError\u001b[0m: name 'OA_m' is not defined"
     ]
    }
   ],
   "source": [
    "a = 0.8 #Valeur du coefficient directeur de la droite modèle\n",
    "b = 5 #Valeur de l'ordonnée à l'origine de la droite modèle\n",
    "\n",
    "pas = (max(1/OA_m)-min(1/OA_m))/100 #pas générant les abscisses du mmodèle\n",
    "\n",
    "abs_debut = min(1/OA_m) - 100 * pas #Abscisse de début du graphique\n",
    "\n",
    "abs_fin = 0 + 100 * pas #Abscisse de fin du graphique\n",
    "\n",
    "X_modele = np.arange(abs_debut, abs_fin, pas) #On génère les abscisses du modèle\n",
    "                                                        # 10 x pas permet d'obtenir une droite qui dépasse à droite\n",
    "for i in X_modele:\n",
    "    Y_modele = a * X_modele + b #On génère les ordonnées du modèle"
   ]
  },
  {
   "cell_type": "markdown",
   "metadata": {},
   "source": [
    "## ETAPE 4 : On trace le graphique contenant les points expérimentaux et le modèle"
   ]
  },
  {
   "cell_type": "markdown",
   "metadata": {},
   "source": [
    "### $\\color {red} {\"A\\: VOUS\\: DE\\: JOUER\\,!\"}$ \n",
    "### Si nécessaire, modifier les valeurs de \"a\" et de \"b\", dans l'étape 4, pour que le modèle s'ajuste au mieux à la répartition des points expérimentaux."
   ]
  },
  {
   "cell_type": "code",
   "execution_count": 6,
   "metadata": {},
   "outputs": [
    {
     "ename": "NameError",
     "evalue": "name 'abs_debut' is not defined",
     "output_type": "error",
     "traceback": [
      "\u001b[0;31m---------------------------------------------------------------------------\u001b[0m",
      "\u001b[0;31mNameError\u001b[0m                                 Traceback (most recent call last)",
      "\u001b[0;32m<ipython-input-6-a379acdd80e4>\u001b[0m in \u001b[0;36m<module>\u001b[0;34m\u001b[0m\n\u001b[1;32m      4\u001b[0m \u001b[0mplt\u001b[0m\u001b[0;34m.\u001b[0m\u001b[0mylabel\u001b[0m\u001b[0;34m(\u001b[0m\u001b[0;34m\"A modifier\"\u001b[0m\u001b[0;34m,\u001b[0m \u001b[0msize\u001b[0m\u001b[0;34m=\u001b[0m\u001b[0;36m18\u001b[0m\u001b[0;34m)\u001b[0m \u001b[0;31m#Affiche le titre des ordonnées\u001b[0m\u001b[0;34m\u001b[0m\u001b[0;34m\u001b[0m\u001b[0m\n\u001b[1;32m      5\u001b[0m \u001b[0mplt\u001b[0m\u001b[0;34m.\u001b[0m\u001b[0mxlabel\u001b[0m\u001b[0;34m(\u001b[0m\u001b[0;34m\"A modifier\"\u001b[0m\u001b[0;34m,\u001b[0m \u001b[0msize\u001b[0m\u001b[0;34m=\u001b[0m\u001b[0;36m18\u001b[0m\u001b[0;34m)\u001b[0m \u001b[0;31m#Affiche le titre des abscisses\u001b[0m\u001b[0;34m\u001b[0m\u001b[0;34m\u001b[0m\u001b[0m\n\u001b[0;32m----> 6\u001b[0;31m \u001b[0mplt\u001b[0m\u001b[0;34m.\u001b[0m\u001b[0mxlim\u001b[0m\u001b[0;34m(\u001b[0m\u001b[0mabs_debut\u001b[0m\u001b[0;34m,\u001b[0m \u001b[0mabs_fin\u001b[0m\u001b[0;34m)\u001b[0m \u001b[0;31m#Définit le début et la fin des abscisses.\u001b[0m\u001b[0;34m\u001b[0m\u001b[0;34m\u001b[0m\u001b[0m\n\u001b[0m\u001b[1;32m      7\u001b[0m \u001b[0mplt\u001b[0m\u001b[0;34m.\u001b[0m\u001b[0maxis\u001b[0m\u001b[0;34m(\u001b[0m\u001b[0;34m'equal'\u001b[0m\u001b[0;34m)\u001b[0m \u001b[0;31m#Les axes sont orthonormés\u001b[0m\u001b[0;34m\u001b[0m\u001b[0;34m\u001b[0m\u001b[0m\n\u001b[1;32m      8\u001b[0m \u001b[0mplt\u001b[0m\u001b[0;34m.\u001b[0m\u001b[0mplot\u001b[0m\u001b[0;34m(\u001b[0m\u001b[0;36m1\u001b[0m\u001b[0;34m/\u001b[0m\u001b[0mOA_m\u001b[0m\u001b[0;34m,\u001b[0m \u001b[0;36m1\u001b[0m \u001b[0;34m/\u001b[0m \u001b[0mOA_prime_m\u001b[0m\u001b[0;34m,\u001b[0m \u001b[0;34m'o'\u001b[0m\u001b[0;34m,\u001b[0m \u001b[0mcolor\u001b[0m \u001b[0;34m=\u001b[0m\u001b[0;34m'red'\u001b[0m\u001b[0;34m,\u001b[0m \u001b[0mlabel\u001b[0m \u001b[0;34m=\u001b[0m \u001b[0;34m'Points issus de la mesure'\u001b[0m\u001b[0;34m)\u001b[0m \u001b[0;31m#Affiche les points expérimentaux\u001b[0m\u001b[0;34m\u001b[0m\u001b[0;34m\u001b[0m\u001b[0m\n",
      "\u001b[0;31mNameError\u001b[0m: name 'abs_debut' is not defined"
     ]
    },
    {
     "data": {
      "image/png": "[encoded data removed]",
      "text/plain": [
       "<Figure size 864x576 with 1 Axes>"
      ]
     },
     "metadata": {
      "needs_background": "light"
     },
     "output_type": "display_data"
    }
   ],
   "source": [
    "plt.figure(figsize=(12,8)) #Définit la taille de l'affichage du graphique\n",
    "plt.grid() # Affiche une grille sur le graphique\n",
    "plt.title(\"A modifier\", size=22) #Définit le titre du graphique\n",
    "plt.ylabel(\"A modifier\", size=18) #Affiche le titre des ordonnées\n",
    "plt.xlabel(\"A modifier\", size=18) #Affiche le titre des abscisses\n",
    "plt.xlim(abs_debut, abs_fin) #Définit le début et la fin des abscisses.\n",
    "plt.axis('equal') #Les axes sont orthonormés\n",
    "plt.plot(1/OA_m, 1 / OA_prime_m, 'o', color ='red', label = 'Points issus de la mesure') #Affiche les points expérimentaux\n",
    "plt.plot(X_modele, Y_modele, color = 'b', label = 'Modèle') #Affiche le modèle mathématique, ici une droite affine\n",
    "plt.legend(fontsize=18)# Affiche la légende\n",
    "plt.text(0,6,\"y = \" + str(a) + \"*\" + \"x\" + \" + \" + str(b), size=22, color='b', bbox=dict(boxstyle=\"round\", ec=(\"k\"), fc=(\"w\"))) #Affiche l'équation de la droite dans un encadré\n",
    "plt.show() #Affiche le graphique"
   ]
  },
  {
   "cell_type": "code",
   "execution_count": null,
   "metadata": {},
   "outputs": [],
   "source": []
  },
  {
   "cell_type": "code",
   "execution_count": null,
   "metadata": {},
   "outputs": [],
   "source": []
  }
 ],
 "metadata": {
  "kernelspec": {
   "display_name": "Python 3",
   "language": "python",
   "name": "python3"
  },
  "language_info": {
   "codemirror_mode": {
    "name": "ipython",
    "version": 3
   },
   "file_extension": ".py",
   "mimetype": "text/x-python",
   "name": "python",
   "nbconvert_exporter": "python",
   "pygments_lexer": "ipython3",
   "version": "3.8.10"
  }
 },
 "nbformat": 4,
 "nbformat_minor": 4
}
