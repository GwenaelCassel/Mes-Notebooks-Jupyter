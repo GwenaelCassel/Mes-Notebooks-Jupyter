{
 "cells": [
  {
   "cell_type": "markdown",
   "metadata": {},
   "source": [
    "# On détaille ici un programme python affichant les points expérimentaux des mesures 1/OA' = f(1/OA) (en grandeurs algébriques).\n",
    "### Dans cet exercice il faudra :\n",
    "###     1. Compléter les listes OA' et OA avec les valeurs expérimentales en valeurs algébriques.\n",
    "###     2. Ajuster la valeur du coefficient directeur \"a\" et de l'ordonnée à l'origine \"b\" pour faire correspondre au mieux le modèle aux points expérimentaux."
   ]
  },
  {
   "cell_type": "markdown",
   "metadata": {},
   "source": [
    "### Chaque partie de code est précédée d'un titre.\n",
    "### Certaines parties de code sont à modifier par vous, cela est indiqué par la mention \"A VOUS DE JOUER :\" dans le titre de la partie."
   ]
  },
  {
   "cell_type": "markdown",
   "metadata": {},
   "source": [
    "## ETAPE 0 : Initialisation des bibliothèques python nécessaires"
   ]
  },
  {
   "cell_type": "code",
   "execution_count": 171,
   "metadata": {},
   "outputs": [],
   "source": [
    "%matplotlib inline\n",
    "import matplotlib.pyplot as plt\n",
    "import numpy as np"
   ]
  },
  {
   "cell_type": "code",
   "execution_count": 172,
   "metadata": {},
   "outputs": [],
   "source": [
    "plt.close() # On ferme les fenêtres graphiques éventuellement ouvertes."
   ]
  },
  {
   "cell_type": "markdown",
   "metadata": {},
   "source": [
    "## ETAPE 1 : On entre les coordonnées des valeurs expérimentales."
   ]
  },
  {
   "cell_type": "markdown",
   "metadata": {},
   "source": [
    "### A VOUS DE JOUER : en valeurs algébriques et en cm, compléter les listes OA' et OA ci-dessous avec les valeurs OA' et OA expérimentales, les valeurs sont séparées par une virgule.\""
   ]
  },
  {
   "cell_type": "code",
   "execution_count": 173,
   "metadata": {},
   "outputs": [],
   "source": [
    "OA_prime = []\n",
    "OA = []"
   ]
  },
  {
   "cell_type": "markdown",
   "metadata": {},
   "source": [
    "## ETAPE 2 : Conversion des données en mètre"
   ]
  },
  {
   "cell_type": "markdown",
   "metadata": {},
   "source": [
    "   ### 1. Définition de la fonction de conversion"
   ]
  },
  {
   "cell_type": "code",
   "execution_count": 174,
   "metadata": {},
   "outputs": [],
   "source": [
    "def conv_metre(liste):\n",
    "    convliste=[]\n",
    "    for i in liste:\n",
    "        convt = i / 100\n",
    "        convliste.extend([convt])\n",
    "    return convliste"
   ]
  },
  {
   "cell_type": "markdown",
   "metadata": {},
   "source": [
    "   ### 2. Conversion"
   ]
  },
  {
   "cell_type": "code",
   "execution_count": 175,
   "metadata": {},
   "outputs": [],
   "source": [
    "convOAprime = conv_metre(OA_prime)\n",
    "convOA = conv_metre(OA)"
   ]
  },
  {
   "cell_type": "markdown",
   "metadata": {},
   "source": [
    "## ETAPE 3 : Calcul des inverses, 1/OA' et 1/OA, des listes OA' et OA (valeurs algébriques)"
   ]
  },
  {
   "cell_type": "markdown",
   "metadata": {},
   "source": [
    " ### 1. Définition de la fonction de calcul"
   ]
  },
  {
   "cell_type": "code",
   "execution_count": 176,
   "metadata": {},
   "outputs": [],
   "source": [
    "def inv_liste(liste):\n",
    "    invliste=[]\n",
    "    for i in liste:\n",
    "        invt = 1 / i\n",
    "        invliste.extend([invt])  \n",
    "    return invliste"
   ]
  },
  {
   "cell_type": "markdown",
   "metadata": {},
   "source": [
    " ### 2. Calcul"
   ]
  },
  {
   "cell_type": "code",
   "execution_count": 177,
   "metadata": {},
   "outputs": [],
   "source": [
    "invOAprime = inv_liste(convOAprime)\n",
    "invOA = inv_liste(convOA)"
   ]
  },
  {
   "cell_type": "markdown",
   "metadata": {},
   "source": [
    "## ETAPE 4 : On modélise la répartition des points par une droite affine de la forme y = ax + b"
   ]
  },
  {
   "cell_type": "code",
   "execution_count": 200,
   "metadata": {},
   "outputs": [],
   "source": [
    "a = 0.8 #Valeur du coefficient directeur de la droite modèle\n",
    "b = 5 #Valeur de l'ordonnée à l'origine de la droite modèle\n",
    "\n",
    "pas = (max(invOA)-min(invOA))/100 #pas générant les abscisses du mmodèle\n",
    "\n",
    "abs_debut = min(invOA) - 100 * pas #Abscisse de début du graphique\n",
    "\n",
    "abs_fin = 0 + 100 * pas #Abscisse de fin du graphique\n",
    "\n",
    "X_modele = np.arange(abs_debut, abs_fin, pas) #On génère les abscisses du modèle\n",
    "                                                        # 10 x pas permet d'obtenir une droite qui dépasse à droite\n",
    "for i in X_modele:\n",
    "    Y_modele = a * X_modele + b #On génère les ordonnées du modèle"
   ]
  },
  {
   "cell_type": "markdown",
   "metadata": {},
   "source": [
    "## ETAPE 5 : On trace le graphique contenant les points expérimentaux et le modèle"
   ]
  },
  {
   "cell_type": "markdown",
   "metadata": {},
   "source": [
    "### A VOUS DE JOUER : si nécessaire, modifier les valeurs de \"a\" et de \"b\", dans l'étape 4, pour que le modèle s'ajuste au mieux à la répartition des points expérimentaux."
   ]
  },
  {
   "cell_type": "code",
   "execution_count": 199,
   "metadata": {},
   "outputs": [
    {
     "data": {
      "image/png": "[encoded data removed]",
      "text/plain": [
       "<Figure size 864x576 with 1 Axes>"
      ]
     },
     "metadata": {
      "needs_background": "light"
     },
     "output_type": "display_data"
    }
   ],
   "source": [
    "plt.figure(figsize=(12,8)) #Définit la taille de l'affichage du graphique\n",
    "plt.grid() # Affiche une grille sur le graphique\n",
    "plt.title(\"1/OA' en fonction de 1/OA\", size=22) #Définit le titre du graphique\n",
    "plt.ylabel(\"1/OA' en m^-1\", size=18) #Affiche le titre des ordonnées\n",
    "plt.xlabel(\"1/OA en m^-1\", size=18) #Affiche le titre des abscisses\n",
    "plt.xlim(abs_debut, abs_fin) #Définit le début et la fin des abscisses.\n",
    "plt.axis('equal') #Les axes sont orthonormés\n",
    "plt.plot(invOA, invOAprime, 'o', color ='red', label = 'Points issus de la mesure') #Affiche les points expérimentaux\n",
    "plt.plot(X_modele, Y_modele, color = 'b', label = 'Modèle') #Affiche le modèle mathématique, ici une droite affine\n",
    "plt.legend(fontsize=18)# Affiche la légende\n",
    "plt.text(0,6,\"y = \" + str(a) + \"*\" + \"x\" + \" + \" + str(b), size=22, color='b', bbox=dict(boxstyle=\"round\", ec=(\"k\"), fc=(\"w\"))) #Affiche l'équation de la droite dans un encadré\n",
    "plt.show() #Affiche le graphique"
   ]
  },
  {
   "cell_type": "code",
   "execution_count": null,
   "metadata": {},
   "outputs": [],
   "source": []
  },
  {
   "cell_type": "code",
   "execution_count": null,
   "metadata": {},
   "outputs": [],
   "source": []
  }
 ],
 "metadata": {
  "kernelspec": {
   "display_name": "Python 3",
   "language": "python",
   "name": "python3"
  },
  "language_info": {
   "codemirror_mode": {
    "name": "ipython",
    "version": 3
   },
   "file_extension": ".py",
   "mimetype": "text/x-python",
   "name": "python",
   "nbconvert_exporter": "python",
   "pygments_lexer": "ipython3",
   "version": "3.8.5"
  }
 },
 "nbformat": 4,
 "nbformat_minor": 4
}
