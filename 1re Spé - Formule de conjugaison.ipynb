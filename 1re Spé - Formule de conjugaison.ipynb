{
 "cells": [
  {
   "cell_type": "markdown",
   "metadata": {},
   "source": [
    "# On détaille ici un programme python affichant les points expérimentaux des mesures 1/OA' = f(1/OA) (en grandeurs algébriques).\n",
    "### Dans cet exercice il faudra :\n",
    "###     1. Compléter les listes OA' et OA avec les valeurs expérimentales en valeurs algébriques.\n",
    "###     2. Ajuster la valeur du coefficient directeur \"a\" et de l'ordonnée à l'origine \"b\" pour faire correspondre au mieux le modèle aux points expérimentaux."
   ]
  },
  {
   "cell_type": "markdown",
   "metadata": {},
   "source": [
    "### Chaque partie de code est précédée d'un titre.\n",
    "### Certaines parties de code sont à modifier par vous, cela est indiqué par la mention \"A VOUS DE JOUER :\" dans le titre de la partie."
   ]
  },
  {
   "cell_type": "markdown",
   "metadata": {},
   "source": [
    "## ETAPE 0 : Initialisation des bibliothèques python nécessaires"
   ]
  },
  {
   "cell_type": "code",
   "execution_count": 1,
   "metadata": {},
   "outputs": [],
   "source": [
    "%matplotlib inline\n",
    "import matplotlib.pyplot as plt\n",
    "import numpy as np"
   ]
  },
  {
   "cell_type": "code",
   "execution_count": 2,
   "metadata": {},
   "outputs": [],
   "source": [
    "plt.close() # On ferme les fenêtres graphiques éventuellement ouvertes."
   ]
  },
  {
   "cell_type": "markdown",
   "metadata": {},
   "source": [
    "## ETAPE 1 : On entre les coordonnées des valeurs expérimentales."
   ]
  },
  {
   "cell_type": "markdown",
   "metadata": {},
   "source": [
    "### A VOUS DE JOUER : en valeurs algébriques et en cm, compléter les listes OA' et OA ci-dessous avec les valeurs OA' et OA expérimentales, les valeurs sont séparées par une virgule.\""
   ]
  },
  {
   "cell_type": "code",
   "execution_count": 3,
   "metadata": {},
   "outputs": [],
   "source": [
    "OA_prime = []\n",
    "OA = []"
   ]
  },
  {
   "cell_type": "markdown",
   "metadata": {},
   "source": [
    "## ETAPE 2 : Conversion des données en mètre"
   ]
  },
  {
   "cell_type": "markdown",
   "metadata": {},
   "source": [
    "   ### 1. Définition de la fonction de conversion"
   ]
  },
  {
   "cell_type": "code",
   "execution_count": 4,
   "metadata": {},
   "outputs": [],
   "source": [
    "def conv_metre(liste):\n",
    "    convliste=[]\n",
    "    for i in liste:\n",
    "        convt = i / 100\n",
    "        convliste.extend([convt])\n",
    "    return convliste"
   ]
  },
  {
   "cell_type": "markdown",
   "metadata": {},
   "source": [
    "   ### 2. Conversion"
   ]
  },
  {
   "cell_type": "code",
   "execution_count": 5,
   "metadata": {},
   "outputs": [],
   "source": [
    "convOAprime = conv_metre(OA_prime)\n",
    "convOA = conv_metre(OA)"
   ]
  },
  {
   "cell_type": "markdown",
   "metadata": {},
   "source": [
    "## ETAPE 3 : Calcul des inverses, 1/OA' et 1/OA, des listes OA' et OA (valeurs algébriques)"
   ]
  },
  {
   "cell_type": "markdown",
   "metadata": {},
   "source": [
    " ### 1. Définition de la fonction de calcul"
   ]
  },
  {
   "cell_type": "code",
   "execution_count": 6,
   "metadata": {},
   "outputs": [],
   "source": [
    "def inv_liste(liste):\n",
    "    invliste=[]\n",
    "    for i in liste:\n",
    "        invt = 1 / i\n",
    "        invliste.extend([invt])  \n",
    "    return invliste"
   ]
  },
  {
   "cell_type": "markdown",
   "metadata": {},
   "source": [
    " ### 2. Calcul"
   ]
  },
  {
   "cell_type": "code",
   "execution_count": 7,
   "metadata": {},
   "outputs": [],
   "source": [
    "invOAprime = inv_liste(convOAprime)\n",
    "invOA = inv_liste(convOA)"
   ]
  },
  {
   "cell_type": "markdown",
   "metadata": {},
   "source": [
    "## ETAPE 4 : On modélise la répartition des points par une droite affine de la forme y = ax + b"
   ]
  },
  {
   "cell_type": "code",
   "execution_count": 8,
   "metadata": {},
   "outputs": [],
   "source": [
    "a = 0.8 #Valeur du coefficient directeur de la droite modèle\n",
    "b = 5 #Valeur de l'ordonnée à l'origine de la droite modèle\n",
    "\n",
    "abs_debut = min(invOA)*1.1 #Abscisse de début du graphique\n",
    "abs_fin = max(invOA)*1.1 #Abscisse de fin du graphique\n",
    "pas = (abs_fin - abs_debut) / 100 #pas générant les abscisses du mmodèle\n",
    "\n",
    "X_modele = np.arange(abs_debut, abs_fin + 10 * pas, pas) #On génère les abscisses du modèl\n",
    "                                                        # 10 x pas permet d'obtenir une droite qui dépasse à droite\n",
    "for i in X_modele:\n",
    "    Y_modele = a * X_modele + b #On génère les ordonnées du modèle"
   ]
  },
  {
   "cell_type": "markdown",
   "metadata": {},
   "source": [
    "## ETAPE 5 : On trace le graphique contenant les points expérimentaux et le modèle"
   ]
  },
  {
   "cell_type": "markdown",
   "metadata": {},
   "source": [
    "### A VOUS DE JOUER : si nécessaire, modifier les valeurs de \"a\" et de \"b\", dans l'étape 4, pour que le modèle s'ajuste au mieux à la répartition des points expérimentaux."
   ]
  },
  {
   "cell_type": "code",
   "execution_count": 10,
   "metadata": {},
   "outputs": [
    {
     "data": {
      "image/png": "[encoded data removed]",
      "text/plain": [
       "<Figure size 432x288 with 1 Axes>"
      ]
     },
     "metadata": {
      "needs_background": "light"
     },
     "output_type": "display_data"
    }
   ],
   "source": [
    "plt.grid() # Affiche une grille sur le graphique\n",
    "plt.title(\"1/OA' en fonction de 1/OA\") #Définit le titre du graphique\n",
    "plt.ylabel(\"1/OA' en m^-1\") #Affiche le label ordonnées\n",
    "plt.xlabel(\"1/OA en m^-1\") #Affiche le label abscisses\n",
    "plt.plot(invOA, invOAprime, 'o', color ='red', label = 'Points issus de la mesure') #Affiche les points expérimentaux\n",
    "plt.plot(X_modele, Y_modele, label = 'Modèle') #Affiche le modèle mathématique, ici une droite linéaire\n",
    "plt.xlim(min(invOA)-0.5, max(invOA)+0.5)\n",
    "plt.ylim(min(invOAprime)-0.5, max(invOAprime)+0.5)\n",
    "plt.legend(loc=\"upper left\") #Affiche la légende du graphique\n",
    "plt.show() #Affiche le graphique"
   ]
  },
  {
   "cell_type": "code",
   "execution_count": null,
   "metadata": {},
   "outputs": [],
   "source": []
  }
 ],
 "metadata": {
  "kernelspec": {
   "display_name": "Python 3",
   "language": "python",
   "name": "python3"
  },
  "language_info": {
   "codemirror_mode": {
    "name": "ipython",
    "version": 3
   },
   "file_extension": ".py",
   "mimetype": "text/x-python",
   "name": "python",
   "nbconvert_exporter": "python",
   "pygments_lexer": "ipython3",
   "version": "3.8.5"
  }
 },
 "nbformat": 4,
 "nbformat_minor": 4
}
