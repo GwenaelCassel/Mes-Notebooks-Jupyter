{
 "cells": [
  {
   "cell_type": "markdown",
   "metadata": {},
   "source": [
    "# Ce programme permet d'estimer la valeur moyenne et l'incertitude-type sur la valeur obtenue lors d'un dosage par étalonnage"
   ]
  },
  {
   "cell_type": "markdown",
   "metadata": {},
   "source": [
    "## Dans cet exercice il faudra :\n",
    "###     1. Compléter les listes des concentrations et conductivités\n",
    "###     2. Préciser la valeur de la conductivité de la solution de sérum\n",
    "###     3. Préciser les incertitudes-types sur les concentrations et les conductivités"
   ]
  },
  {
   "cell_type": "markdown",
   "metadata": {},
   "source": [
    "### Chaque partie de code est précédée d'un titre.\n",
    "### Certaines parties de code sont à modifier par vous, cela est indiqué par la mention $\\color {red} {\"A\\: VOUS\\: DE\\: JOUER\\,!\"}$ dans le titre de la partie."
   ]
  },
  {
   "cell_type": "markdown",
   "metadata": {},
   "source": [
    "## Etape 0 : On importe les bibliothèques nécessaires"
   ]
  },
  {
   "cell_type": "code",
   "execution_count": 1,
   "metadata": {},
   "outputs": [],
   "source": [
    "import numpy as np # Bibliothèque permettant le calcul scientifique\n",
    "import matplotlib.pyplot as plt # Bibliothèque permettant de tracer des graphiques\n",
    "from scipy.optimize import curve_fit # Bibliothèque permettant d'optimiser un modèle"
   ]
  },
  {
   "cell_type": "markdown",
   "metadata": {},
   "source": [
    "## Etape 1 : On entre les listes de mesures et les incertitudes associées à ces mesures\n",
    "### $\\color {red} {\"A\\: VOUS\\: DE\\: JOUER\\,!\"}$"
   ]
  },
  {
   "cell_type": "code",
   "execution_count": 2,
   "metadata": {},
   "outputs": [],
   "source": [
    "#déclaration des listes de concentration C et conductivité S et de la conductivité S_inc de la solution inconnue\n",
    "C = np.array(['A modifier']) # Liste contenant les valeurs des concentrations\n",
    "S = np.array(['A modifier']) # Liste contenant les valeurs de conductivités\n",
    "S_inc = 'A modifier' # Valeur de la conductivité de la solution de sérum\n",
    "\n",
    "#déclaration des incertitudes sur les mesures de C et S\n",
    "uC = 'A modifier' # Incertitude-type sur les concentrations\n",
    "uS = 'A modifier' # Incertitudes-types sur les conductivités"
   ]
  },
  {
   "cell_type": "markdown",
   "metadata": {},
   "source": [
    "## Etape 2 : On initialise les variables et la fonction nécessaires aux calculs."
   ]
  },
  {
   "cell_type": "code",
   "execution_count": 3,
   "metadata": {},
   "outputs": [],
   "source": [
    "#Nombre de fois où on fait les calculs (nécessairement supérieur à 1 !)\n",
    "iterations = 1000\n",
    "\n",
    "#Création des listes contenant les valeurs aléatoires calculées pour C, S et C_inc\n",
    "C_alea=[]\n",
    "S_alea=[]\n",
    "LC_inc=[]\n",
    "\n",
    "# Définition de la fonction de modélisation, elle est linéaire ici y = a*x\n",
    "def modele(x, a):\n",
    "    return a * x"
   ]
  },
  {
   "cell_type": "markdown",
   "metadata": {},
   "source": [
    "## Etape 3 : On simule \"iterations\" fois un dosage par étalonnage"
   ]
  },
  {
   "cell_type": "code",
   "execution_count": 4,
   "metadata": {},
   "outputs": [],
   "source": [
    "#On fait \"iterations\" fois les opérations suivantes\n",
    "for i in range(iterations):    \n",
    "    \n",
    "    #On crée une liste aléatoire de chaque grandeur C et S\n",
    "    for j in range(len(C)):\n",
    "\n",
    "        VC = C[j]+uC*np.random.normal()\n",
    "        C_alea.append(VC)\n",
    "    \n",
    "        VS = S[j]+uS*np.random.normal()\n",
    "        S_alea.append(VS)\n",
    "    \n",
    "    #On fait la régression linéaire de la répartition aléatoire de C et S, S = k*C\n",
    "    k, _ = curve_fit(modele, C_alea, S_alea) # On calcule la meilleure valeur de k pour l'ajustement linéaire\n",
    "    \n",
    "    #On calcule une valeur de C_inc de la concentration inconnue\n",
    "    C_inc = (S_inc+uS*np.random.normal()) / k[0]\n",
    "    \n",
    "    #On Multiplie la valeur obtenue par 20 pour obtenir la valeur réelle\n",
    "    C_inc = C_inc*20\n",
    "    \n",
    "    #On stocke la valeur de C_inc dans une liste regroupant l'ensemble des valeurs obtenues\n",
    "    LC_inc.append(C_inc)"
   ]
  },
  {
   "cell_type": "markdown",
   "metadata": {},
   "source": [
    "## Etape 4 : On affiche les résultats obtenus"
   ]
  },
  {
   "cell_type": "code",
   "execution_count": 5,
   "metadata": {},
   "outputs": [
    {
     "name": "stdout",
     "output_type": "stream",
     "text": [
      "Concentration inconnue (Valeur moyenne) :  664.6155539765283  g/L\n",
      "u(C_inc):  10.614752199348013  g/L\n"
     ]
    },
    {
     "data": {
      "image/png": "[encoded data removed]",
      "text/plain": [
       "<Figure size 432x288 with 1 Axes>"
      ]
     },
     "metadata": {
      "needs_background": "light"
     },
     "output_type": "display_data"
    }
   ],
   "source": [
    "#On calcule et on affiche la moyenne des valeurs C_inc calculées et l'incertitude-type\n",
    "MoyCinc = sum(LC_inc)/iterations\n",
    "uCinc = (1/(iterations-1)*sum((np.array(LC_inc)-MoyCinc)**2))**0.5\n",
    "\n",
    "print('Concentration inconnue (Valeur moyenne) : ', MoyCinc, ' g/L')\n",
    "print('u(C_inc): ', uCinc, ' g/L')\n",
    "\n",
    "#On affiche l'histogramme de répartition des valeurs C_inc obtenues\n",
    "plt.hist(LC_inc, range = (MoyCinc-4*uCinc, MoyCinc+4*uCinc), bins = 50, color = 'blue', edgecolor = 'black')\n",
    "plt.axvline(MoyCinc, color=\"orange\", linestyle=\"-.\", label='Valeur moyenne (Concentration inconnue)')\n",
    "plt.title('Pour ' + str(iterations) + ' iterations')\n",
    "plt.xlabel('C (g/L)')\n",
    "plt.ylabel('Nombre de valeurs calculées')\n",
    "plt.legend()\n",
    "plt.show()"
   ]
  },
  {
   "cell_type": "code",
   "execution_count": null,
   "metadata": {},
   "outputs": [],
   "source": []
  }
 ],
 "metadata": {
  "kernelspec": {
   "display_name": "Python 3 (ipykernel)",
   "language": "python",
   "name": "python3"
  },
  "language_info": {
   "codemirror_mode": {
    "name": "ipython",
    "version": 3
   },
   "file_extension": ".py",
   "mimetype": "text/x-python",
   "name": "python",
   "nbconvert_exporter": "python",
   "pygments_lexer": "ipython3",
   "version": "3.10.4"
  }
 },
 "nbformat": 4,
 "nbformat_minor": 2
}
