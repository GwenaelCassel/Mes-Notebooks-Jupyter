{
 "cells": [
  {
   "cell_type": "markdown",
   "metadata": {},
   "source": [
    "# On détaille ici un programme python affichant les points expérimentaux des mesures de pression P en fonction de la différence d'altitude $ \\Delta z$.\n",
    "### Dans cet exercice il faudra :\n",
    "###     1. Compléter les listes P et z avec les valeurs expérimentales.\n",
    "###     2. Calculer les écarts d'altitude $\\Delta z$\n",
    "###     2. Ajuster la valeur du coefficient directeur \"a\" et de l'ordonnée à l'origine \"b\" pour faire correspondre au mieux le modèle aux points expérimentaux."
   ]
  },
  {
   "cell_type": "markdown",
   "metadata": {},
   "source": [
    "### Chaque partie de code est précédée d'un titre.\n",
    "### Certaines parties de code sont à modifier par vous, cela est indiqué par la mention $\\color {red} {\"A\\: VOUS\\: DE\\: JOUER\\,!\"}$ dans le titre de la partie."
   ]
  },
  {
   "cell_type": "markdown",
   "metadata": {},
   "source": [
    "## ETAPE 0 : Initialisation des bibliothèques python nécessaires"
   ]
  },
  {
   "cell_type": "code",
   "execution_count": 39,
   "metadata": {},
   "outputs": [],
   "source": [
    "import matplotlib.pyplot as plt\n",
    "import numpy as np\n",
    "import math"
   ]
  },
  {
   "cell_type": "code",
   "execution_count": 40,
   "metadata": {},
   "outputs": [],
   "source": [
    "plt.close() # On ferme les fenêtres graphiques éventuellement ouvertes."
   ]
  },
  {
   "cell_type": "markdown",
   "metadata": {},
   "source": [
    "## ETAPE 1 : On entre les coordonnées des valeurs expérimentales."
   ]
  },
  {
   "cell_type": "markdown",
   "metadata": {},
   "source": [
    "### $\\color {red} {A\\: VOUS\\: DE\\: JOUER\\,!}$ \n",
    "### Compléter les listes P (en Pa) et z (en m) ci-dessous avec les valeurs expérimentales, les valeurs sont séparées par une virgule.\""
   ]
  },
  {
   "cell_type": "code",
   "execution_count": 41,
   "metadata": {},
   "outputs": [],
   "source": [
    "P = [] #liste contenant les valeurs de la pression P en hPa\n",
    "z = [] #liste contenant les valeurs de l'altitude z en m"
   ]
  },
  {
   "cell_type": "markdown",
   "metadata": {},
   "source": [
    "## ETAPE 2 : Calcul de la variation d'altitude $\\Delta z$"
   ]
  },
  {
   "cell_type": "markdown",
   "metadata": {},
   "source": [
    "   ### 1. Définition de la fonction \"delta\" de calcul de la variation de l'altitude\n",
    "   ### $\\color {red} {A\\: VOUS\\: DE\\: JOUER\\,!}$\n",
    "   ### Compléter la formule permettant de calculer la variation d'altitude au point n° i\n",
    "   ### on précise que $\\Delta z$ du point i = $z_i$ - $z_0$ où $z_0$ est l'atitude la plus basse"
   ]
  },
  {
   "cell_type": "code",
   "execution_count": 42,
   "metadata": {},
   "outputs": [],
   "source": [
    "def delta(liste): #la fonction se nomme delta et a une liste comme argument\n",
    "    deltaliste=[] #on crée la liste qui stockera les valeurs des variations de la grandeur\n",
    "    for i in range(0,len(liste)): #la boucle for balaie tous les termes de la liste\n",
    "        terme = (\"A modifier\") #on calcule la variation entre la première valeur et la i-ème la valeur\n",
    "        deltaliste.extend([terme]) #on ajoute le résultat à la liste deltaliste des variations de la gandeur\n",
    "    return deltaliste #la fonction retourne la liste deltaliste contenant les variations de la grandeur"
   ]
  },
  {
   "cell_type": "markdown",
   "metadata": {},
   "source": [
    "   ### 2. Calcul des variations $\\Delta z$"
   ]
  },
  {
   "cell_type": "code",
   "execution_count": 43,
   "metadata": {},
   "outputs": [],
   "source": [
    "deltaZ = delta(z) #on calcule les valeurs de variation de l'altitude, on les stocke dans la liste deltaZ"
   ]
  },
  {
   "cell_type": "markdown",
   "metadata": {},
   "source": [
    "## ETAPE 4 : On modélise la répartition des points $\\Delta P$ en fonction de $\\Delta z$ par une droite affine de la forme y = ax + b"
   ]
  },
  {
   "cell_type": "code",
   "execution_count": 44,
   "metadata": {},
   "outputs": [
    {
     "ename": "ValueError",
     "evalue": "max() arg is an empty sequence",
     "output_type": "error",
     "traceback": [
      "\u001b[0;31m---------------------------------------------------------------------------\u001b[0m",
      "\u001b[0;31mValueError\u001b[0m                                Traceback (most recent call last)",
      "\u001b[0;32m<ipython-input-44-04d8d79427f7>\u001b[0m in \u001b[0;36m<module>\u001b[0;34m\u001b[0m\n\u001b[1;32m      2\u001b[0m \u001b[0mb\u001b[0m \u001b[0;34m=\u001b[0m \u001b[0;36m100000\u001b[0m \u001b[0;31m#Valeur de l'ordonnée à l'origine de la droite modèle\u001b[0m\u001b[0;34m\u001b[0m\u001b[0;34m\u001b[0m\u001b[0m\n\u001b[1;32m      3\u001b[0m \u001b[0;34m\u001b[0m\u001b[0m\n\u001b[0;32m----> 4\u001b[0;31m \u001b[0mpas\u001b[0m \u001b[0;34m=\u001b[0m \u001b[0;34m(\u001b[0m\u001b[0mmax\u001b[0m\u001b[0;34m(\u001b[0m\u001b[0mdeltaZ\u001b[0m\u001b[0;34m)\u001b[0m\u001b[0;34m-\u001b[0m\u001b[0mmin\u001b[0m\u001b[0;34m(\u001b[0m\u001b[0mdeltaZ\u001b[0m\u001b[0;34m)\u001b[0m\u001b[0;34m)\u001b[0m\u001b[0;34m/\u001b[0m\u001b[0;36m100\u001b[0m \u001b[0;31m#pas générant les abscisses du mmodèle\u001b[0m\u001b[0;34m\u001b[0m\u001b[0;34m\u001b[0m\u001b[0m\n\u001b[0m\u001b[1;32m      5\u001b[0m \u001b[0;34m\u001b[0m\u001b[0m\n\u001b[1;32m      6\u001b[0m \u001b[0mabs_debut\u001b[0m \u001b[0;34m=\u001b[0m \u001b[0mmin\u001b[0m\u001b[0;34m(\u001b[0m\u001b[0mdeltaZ\u001b[0m\u001b[0;34m)\u001b[0m \u001b[0;34m-\u001b[0m \u001b[0;36m5\u001b[0m \u001b[0;34m*\u001b[0m \u001b[0mpas\u001b[0m \u001b[0;31m#Abscisse de début du graphique\u001b[0m\u001b[0;34m\u001b[0m\u001b[0;34m\u001b[0m\u001b[0m\n",
      "\u001b[0;31mValueError\u001b[0m: max() arg is an empty sequence"
     ]
    }
   ],
   "source": [
    "a = -10 #Valeur du coefficient directeur de la droite modèle\n",
    "b = 100000 #Valeur de l'ordonnée à l'origine de la droite modèle\n",
    "\n",
    "pas = (max(deltaZ)-min(deltaZ))/100 #pas générant les abscisses du mmodèle\n",
    "\n",
    "abs_debut = min(deltaZ) - 5 * pas #Abscisse de début du graphique\n",
    "\n",
    "abs_fin = 0 + 110 * pas #Abscisse de fin du graphique\n",
    "\n",
    "X_modele = np.arange(abs_debut, abs_fin, pas) #On génère les abscisses du modèle\n",
    "                                                        # 10 x pas permet d'obtenir une droite qui dépasse à droite\n",
    "for i in X_modele:\n",
    "    Y_modele = a * X_modele + b #On génère les ordonnées du modèle"
   ]
  },
  {
   "cell_type": "markdown",
   "metadata": {},
   "source": [
    "## ETAPE 5 : On trace le graphique contenant les points expérimentaux et le modèle"
   ]
  },
  {
   "cell_type": "markdown",
   "metadata": {},
   "source": [
    "### $\\color {red} {A\\: VOUS\\: DE\\: JOUER\\,!}$\n",
    "### Si nécessaire, modifier les valeurs de \"a\" et de \"b\", dans l'étape 4, pour que le modèle s'ajuste au mieux à la répartition des points expérimentaux."
   ]
  },
  {
   "cell_type": "code",
   "execution_count": 45,
   "metadata": {},
   "outputs": [
    {
     "ename": "ValueError",
     "evalue": "max() arg is an empty sequence",
     "output_type": "error",
     "traceback": [
      "\u001b[0;31m---------------------------------------------------------------------------\u001b[0m",
      "\u001b[0;31mValueError\u001b[0m                                Traceback (most recent call last)",
      "\u001b[0;32m<ipython-input-45-25ff5ca1454c>\u001b[0m in \u001b[0;36m<module>\u001b[0;34m\u001b[0m\n\u001b[1;32m      8\u001b[0m \u001b[0mplt\u001b[0m\u001b[0;34m.\u001b[0m\u001b[0mplot\u001b[0m\u001b[0;34m(\u001b[0m\u001b[0mX_modele\u001b[0m\u001b[0;34m,\u001b[0m \u001b[0mY_modele\u001b[0m\u001b[0;34m,\u001b[0m \u001b[0mcolor\u001b[0m \u001b[0;34m=\u001b[0m \u001b[0;34m'b'\u001b[0m\u001b[0;34m,\u001b[0m \u001b[0mlabel\u001b[0m \u001b[0;34m=\u001b[0m \u001b[0;34m'Modèle'\u001b[0m\u001b[0;34m)\u001b[0m \u001b[0;31m#Affiche le modèle mathématique, ici une droite affine\u001b[0m\u001b[0;34m\u001b[0m\u001b[0;34m\u001b[0m\u001b[0m\n\u001b[1;32m      9\u001b[0m \u001b[0;34m\u001b[0m\u001b[0m\n\u001b[0;32m---> 10\u001b[0;31m \u001b[0mx_Eq\u001b[0m\u001b[0;34m,\u001b[0m\u001b[0my_Eq\u001b[0m \u001b[0;34m=\u001b[0m \u001b[0;34m(\u001b[0m\u001b[0mmax\u001b[0m\u001b[0;34m(\u001b[0m\u001b[0mdeltaZ\u001b[0m\u001b[0;34m)\u001b[0m\u001b[0;34m-\u001b[0m\u001b[0mmin\u001b[0m\u001b[0;34m(\u001b[0m\u001b[0mdeltaZ\u001b[0m\u001b[0;34m)\u001b[0m\u001b[0;34m)\u001b[0m\u001b[0;34m/\u001b[0m\u001b[0;36m2\u001b[0m\u001b[0;34m,\u001b[0m \u001b[0mmin\u001b[0m\u001b[0;34m(\u001b[0m\u001b[0mP\u001b[0m\u001b[0;34m)\u001b[0m \u001b[0;34m+\u001b[0m \u001b[0;34m(\u001b[0m\u001b[0mmax\u001b[0m\u001b[0;34m(\u001b[0m\u001b[0mP\u001b[0m\u001b[0;34m)\u001b[0m\u001b[0;34m-\u001b[0m\u001b[0mmin\u001b[0m\u001b[0;34m(\u001b[0m\u001b[0mP\u001b[0m\u001b[0;34m)\u001b[0m\u001b[0;34m)\u001b[0m\u001b[0;34m*\u001b[0m\u001b[0;36m2\u001b[0m\u001b[0;34m/\u001b[0m\u001b[0;36m3\u001b[0m \u001b[0;31m#Calcule les coordonnées d'affichage de l'équation du modèle\u001b[0m\u001b[0;34m\u001b[0m\u001b[0;34m\u001b[0m\u001b[0m\n\u001b[0m\u001b[1;32m     11\u001b[0m \u001b[0;34m\u001b[0m\u001b[0m\n\u001b[1;32m     12\u001b[0m \u001b[0mplt\u001b[0m\u001b[0;34m.\u001b[0m\u001b[0mtext\u001b[0m\u001b[0;34m(\u001b[0m\u001b[0mx_Eq\u001b[0m\u001b[0;34m,\u001b[0m\u001b[0my_Eq\u001b[0m\u001b[0;34m,\u001b[0m\u001b[0;34m\"y = \"\u001b[0m \u001b[0;34m+\u001b[0m \u001b[0mstr\u001b[0m\u001b[0;34m(\u001b[0m\u001b[0ma\u001b[0m\u001b[0;34m)\u001b[0m \u001b[0;34m+\u001b[0m \u001b[0;34m\"*\"\u001b[0m \u001b[0;34m+\u001b[0m \u001b[0;34m\"x\"\u001b[0m \u001b[0;34m+\u001b[0m \u001b[0;34m\" + \"\u001b[0m \u001b[0;34m+\u001b[0m \u001b[0mstr\u001b[0m\u001b[0;34m(\u001b[0m\u001b[0mb\u001b[0m\u001b[0;34m)\u001b[0m\u001b[0;34m,\u001b[0m \u001b[0msize\u001b[0m\u001b[0;34m=\u001b[0m\u001b[0;36m22\u001b[0m\u001b[0;34m,\u001b[0m \u001b[0mcolor\u001b[0m\u001b[0;34m=\u001b[0m\u001b[0;34m'b'\u001b[0m\u001b[0;34m,\u001b[0m \u001b[0mbbox\u001b[0m\u001b[0;34m=\u001b[0m\u001b[0mdict\u001b[0m\u001b[0;34m(\u001b[0m\u001b[0mboxstyle\u001b[0m\u001b[0;34m=\u001b[0m\u001b[0;34m\"round\"\u001b[0m\u001b[0;34m,\u001b[0m \u001b[0mec\u001b[0m\u001b[0;34m=\u001b[0m\u001b[0;34m(\u001b[0m\u001b[0;34m\"k\"\u001b[0m\u001b[0;34m)\u001b[0m\u001b[0;34m,\u001b[0m \u001b[0mfc\u001b[0m\u001b[0;34m=\u001b[0m\u001b[0;34m(\u001b[0m\u001b[0;34m\"w\"\u001b[0m\u001b[0;34m)\u001b[0m\u001b[0;34m)\u001b[0m\u001b[0;34m)\u001b[0m \u001b[0;31m#Affiche l'équation de la droite dans un encadré\u001b[0m\u001b[0;34m\u001b[0m\u001b[0;34m\u001b[0m\u001b[0m\n",
      "\u001b[0;31mValueError\u001b[0m: max() arg is an empty sequence"
     ]
    },
    {
     "data": {
      "image/png": "[encoded data removed]",
      "text/plain": [
       "<Figure size 864x576 with 1 Axes>"
      ]
     },
     "metadata": {
      "needs_background": "light"
     },
     "output_type": "display_data"
    }
   ],
   "source": [
    "plt.figure(figsize=(12,8)) #Définit la taille de l'affichage du graphique\n",
    "plt.grid() # Affiche une grille sur le graphique\n",
    "plt.title(\"A modifier\", size=22) #Définit le titre du graphique\n",
    "plt.ylabel(\"A modifier\", size=18) #Affiche le titre des ordonnées\n",
    "plt.xlabel(\"A modifier\", size=18) #Affiche le titre des abscisses\n",
    "plt.xlim(abs_debut, abs_fin) #Définit le début et la fin des abscisses.\n",
    "plt.plot(deltaZ,P, 'o', color ='red', label = 'Points issus de la mesure') #Affiche les points expérimentaux\n",
    "plt.plot(X_modele, Y_modele, color = 'b', label = 'Modèle') #Affiche le modèle mathématique, ici une droite affine\n",
    "\n",
    "x_Eq,y_Eq = (max(deltaZ)-min(deltaZ))/2, min(P) + (max(P)-min(P))*2/3 #Calcule les coordonnées d'affichage de l'équation du modèle\n",
    "\n",
    "plt.text(x_Eq,y_Eq,\"y = \" + str(a) + \"*\" + \"x\" + \" + \" + str(b), size=22, color='b', bbox=dict(boxstyle=\"round\", ec=(\"k\"), fc=(\"w\"))) #Affiche l'équation de la droite dans un encadré\n",
    "plt.legend(fontsize=18)# Affiche la légende\n",
    "plt.show() #Affiche le graphique"
   ]
  }
 ],
 "metadata": {
  "kernelspec": {
   "display_name": "Python 3",
   "language": "python",
   "name": "python3"
  },
  "language_info": {
   "codemirror_mode": {
    "name": "ipython",
    "version": 3
   },
   "file_extension": ".py",
   "mimetype": "text/x-python",
   "name": "python",
   "nbconvert_exporter": "python",
   "pygments_lexer": "ipython3",
   "version": "3.8.5"
  }
 },
 "nbformat": 4,
 "nbformat_minor": 4
}
