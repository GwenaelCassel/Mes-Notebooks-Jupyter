{
 "cells": [
  {
   "cell_type": "markdown",
   "metadata": {},
   "source": [
    "# Ce programme permet de calculer le taux d'avancement de la réaction d'un acide faible avec l'eau"
   ]
  },
  {
   "cell_type": "markdown",
   "metadata": {},
   "source": [
    "## Etape 0 : On importe la bibliothèque nécessaire"
   ]
  },
  {
   "cell_type": "code",
   "execution_count": 1,
   "metadata": {},
   "outputs": [],
   "source": [
    "import math #Bibliothèque de calcul scientifique"
   ]
  },
  {
   "cell_type": "markdown",
   "metadata": {},
   "source": [
    "## Etape 1 : On précise les grandeurs nécessaires au calcul"
   ]
  },
  {
   "cell_type": "code",
   "execution_count": 2,
   "metadata": {},
   "outputs": [],
   "source": [
    "Ca = 0.5  #Concentration de la solution en acide faible apporte en mol/L\n",
    "pKa = 2.6 #pKa du couple acide faible/base faible\n",
    "V = 0.01 #Volume de la solution en L"
   ]
  },
  {
   "cell_type": "markdown",
   "metadata": {},
   "source": [
    "## Etape 2 : On fait les calculs"
   ]
  },
  {
   "cell_type": "markdown",
   "metadata": {},
   "source": [
    "### On calcule l'avancement maximal"
   ]
  },
  {
   "cell_type": "code",
   "execution_count": 3,
   "metadata": {},
   "outputs": [],
   "source": [
    "Ka = 10**(-pKa) #On calcule la constante d'acidité Ka\n",
    "xmax = Ca*V # xmax = Ca*V"
   ]
  },
  {
   "cell_type": "markdown",
   "metadata": {},
   "source": [
    "### On calcule l'avancement final $x_f$   à l'aide de l'équation  du second degré $\\frac{1}{V^2} x_f^2 + \\frac{K_a}{V} x_f - K_a.C_a$"
   ]
  },
  {
   "cell_type": "code",
   "execution_count": 4,
   "metadata": {},
   "outputs": [],
   "source": [
    "a = 1/(V**2)\n",
    "b = Ka/V\n",
    "c = -Ka*Ca\n",
    "delta = b**2-4*a*c #On calcule le discriminant\n",
    "xf1 = (-b-math.sqrt(delta))/(2*a) #On calcule la solution 1\n",
    "xf2 = (-b+math.sqrt(delta))/(2*a) #On calcule la solution 2\n",
    "if xf1<0: #Si la solution 1 est négative...\n",
    "    xf = xf2 #...alors la solution est la n°2\n",
    "elif xf2<0: #Si la solution 2 est négative...\n",
    "    xf = xf1 #...alors la solution est la n°1\n",
    "else : #Sinon...\n",
    "    xf = min(xf1,xf2) #...la solution est le minimum des deux solutions calculées\n",
    "taux = xf/xmax #On calcule le taux d'avancement "
   ]
  },
  {
   "cell_type": "markdown",
   "metadata": {},
   "source": [
    "## Etape 3 : On affiche les résultats"
   ]
  },
  {
   "cell_type": "code",
   "execution_count": 5,
   "metadata": {},
   "outputs": [
    {
     "name": "stdout",
     "output_type": "stream",
     "text": [
      "L'avancement final vaut  3.421e-04  mol\n",
      "L'avancement maximal vaut 5.000e-03 mol\n",
      "et le taux d'avancement final vaut  6.841e-02  soit  6.841 %\n"
     ]
    }
   ],
   "source": [
    "print(\"L'avancement final vaut \",\"%0.3e\" % xf,\" mol\") #On affiche l'avancement final\n",
    "print(\"L'avancement maximal vaut\",\"%0.3e\" % xmax,\"mol\") #On affiche l'avancement maximal\n",
    "print(\"et le taux d'avancement final vaut \", \"%0.3e\" % taux,\" soit \", round(taux*100,3),\"%\") #On affiche le taux d'avancement"
   ]
  }
 ],
 "metadata": {
  "kernelspec": {
   "display_name": "Python 3",
   "language": "python",
   "name": "python3"
  },
  "language_info": {
   "codemirror_mode": {
    "name": "ipython",
    "version": 3
   },
   "file_extension": ".py",
   "mimetype": "text/x-python",
   "name": "python",
   "nbconvert_exporter": "python",
   "pygments_lexer": "ipython3",
   "version": "3.8.10"
  }
 },
 "nbformat": 4,
 "nbformat_minor": 4
}
