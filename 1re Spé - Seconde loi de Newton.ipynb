{
 "cells": [
  {
   "cell_type": "markdown",
   "metadata": {},
   "source": [
    "# On détaille ici un programme python affichant le pointé de points expérimentaux ainsi que les vecteurs vitesse et variations de vitesse.\n",
    "#### Dans cet exercice il faudra :\n",
    "####     1. Compléter les listes des coordonnées des positions de l'objet au cours du temps\n",
    "####     2. Compléter les formules permettant de calculer le vecteur vitesse\n",
    "####     3. Compléter les formules permettant de calculer le vecteur variation de vitesse"
   ]
  },
  {
   "cell_type": "markdown",
   "metadata": {},
   "source": [
    "### Chaque partie de code est précédée d'un titre.\n",
    "### Certaines parties de code sont à modifier par vous, cela est indiqué par la mention \"A VOUS DE JOUER :\" dans le titre de la partie."
   ]
  },
  {
   "cell_type": "markdown",
   "metadata": {},
   "source": [
    "## ETAPE 0 : Initialisation des bibliothèques python nécessaires"
   ]
  },
  {
   "cell_type": "code",
   "execution_count": 177,
   "metadata": {},
   "outputs": [],
   "source": [
    "%matplotlib inline\n",
    "import matplotlib.pyplot as plt\n",
    "import numpy as np\n",
    "import math"
   ]
  },
  {
   "cell_type": "code",
   "execution_count": 178,
   "metadata": {},
   "outputs": [],
   "source": [
    "plt.close() # On ferme les fenêtres graphiques éventuellement ouvertes."
   ]
  },
  {
   "cell_type": "markdown",
   "metadata": {},
   "source": [
    "## ETAPE 1 : On entre les coordonnées des valeurs expérimentales des pointés."
   ]
  },
  {
   "cell_type": "markdown",
   "metadata": {},
   "source": [
    "### A VOUS DE JOUER \n",
    "### 1. dans l'ordre de numérotation et en mètre, compléter les listes x et z ci-dessous avec les valeurs x et z expérimentales, les valeurs sont séparées par une virgule.\n",
    "### 2. Préciser la valeur de l'écart de temps delta_t entre chaque point, la valeur est en seconde."
   ]
  },
  {
   "cell_type": "code",
   "execution_count": 200,
   "metadata": {},
   "outputs": [
    {
     "ename": "SyntaxError",
     "evalue": "invalid syntax (<ipython-input-200-1a519b963136>, line 3)",
     "output_type": "error",
     "traceback": [
      "\u001b[0;36m  File \u001b[0;32m\"<ipython-input-200-1a519b963136>\"\u001b[0;36m, line \u001b[0;32m3\u001b[0m\n\u001b[0;31m    delta_t =\u001b[0m\n\u001b[0m             ^\u001b[0m\n\u001b[0;31mSyntaxError\u001b[0m\u001b[0;31m:\u001b[0m invalid syntax\n"
     ]
    }
   ],
   "source": [
    "x = []\n",
    "z = []\n",
    "delta_t ="
   ]
  },
  {
   "cell_type": "markdown",
   "metadata": {},
   "source": [
    "## ETAPE 2 : On trace le graphique représentant la position des différents points."
   ]
  },
  {
   "cell_type": "markdown",
   "metadata": {},
   "source": [
    "### A VOUS DE JOUER \n",
    "### Compléter le titre du graphique ainsi que les noms des axes avec leur unité."
   ]
  },
  {
   "cell_type": "code",
   "execution_count": 206,
   "metadata": {},
   "outputs": [
    {
     "ename": "ValueError",
     "evalue": "min() arg is an empty sequence",
     "output_type": "error",
     "traceback": [
      "\u001b[0;31m---------------------------------------------------------------------------\u001b[0m",
      "\u001b[0;31mValueError\u001b[0m                                Traceback (most recent call last)",
      "\u001b[0;32m<ipython-input-206-a9d8cce8877a>\u001b[0m in \u001b[0;36m<module>\u001b[0;34m\u001b[0m\n\u001b[0;32m----> 1\u001b[0;31m \u001b[0mabs_debut\u001b[0m \u001b[0;34m=\u001b[0m \u001b[0mmin\u001b[0m\u001b[0;34m(\u001b[0m\u001b[0mx\u001b[0m\u001b[0;34m)\u001b[0m \u001b[0;31m#Abscisse de début du graphique\u001b[0m\u001b[0;34m\u001b[0m\u001b[0;34m\u001b[0m\u001b[0m\n\u001b[0m\u001b[1;32m      2\u001b[0m \u001b[0mabs_fin\u001b[0m \u001b[0;34m=\u001b[0m\u001b[0mmax\u001b[0m\u001b[0;34m(\u001b[0m\u001b[0mx\u001b[0m\u001b[0;34m)\u001b[0m \u001b[0;31m#Abscisse de fin du graphique\u001b[0m\u001b[0;34m\u001b[0m\u001b[0;34m\u001b[0m\u001b[0m\n\u001b[1;32m      3\u001b[0m \u001b[0mplt\u001b[0m\u001b[0;34m.\u001b[0m\u001b[0mfigure\u001b[0m\u001b[0;34m(\u001b[0m\u001b[0mfigsize\u001b[0m\u001b[0;34m=\u001b[0m\u001b[0;34m(\u001b[0m\u001b[0;36m12\u001b[0m\u001b[0;34m,\u001b[0m\u001b[0;36m8\u001b[0m\u001b[0;34m)\u001b[0m\u001b[0;34m)\u001b[0m \u001b[0;31m#Définit la taille de l'affichage du graphique\u001b[0m\u001b[0;34m\u001b[0m\u001b[0;34m\u001b[0m\u001b[0m\n\u001b[1;32m      4\u001b[0m \u001b[0mplt\u001b[0m\u001b[0;34m.\u001b[0m\u001b[0mgrid\u001b[0m\u001b[0;34m(\u001b[0m\u001b[0;34m)\u001b[0m \u001b[0;31m# Affiche une grille sur le graphique\u001b[0m\u001b[0;34m\u001b[0m\u001b[0;34m\u001b[0m\u001b[0m\n\u001b[1;32m      5\u001b[0m \u001b[0mplt\u001b[0m\u001b[0;34m.\u001b[0m\u001b[0mtitle\u001b[0m\u001b[0;34m(\u001b[0m\u001b[0;34m\"Titre du graphique\"\u001b[0m\u001b[0;34m,\u001b[0m \u001b[0msize\u001b[0m\u001b[0;34m=\u001b[0m\u001b[0;36m22\u001b[0m\u001b[0;34m)\u001b[0m \u001b[0;31m#Définit le titre du graphique\u001b[0m\u001b[0;34m\u001b[0m\u001b[0;34m\u001b[0m\u001b[0m\n",
      "\u001b[0;31mValueError\u001b[0m: min() arg is an empty sequence"
     ]
    }
   ],
   "source": [
    "abs_debut = min(x) #Abscisse de début du graphique\n",
    "abs_fin =max(x) #Abscisse de fin du graphique\n",
    "plt.figure(figsize=(12,8)) #Définit la taille de l'affichage du graphique\n",
    "plt.grid() # Affiche une grille sur le graphique\n",
    "plt.title(\"Titre du graphique\", size=22) #Définit le titre du graphique\n",
    "plt.ylabel(\"Nom de l'axe et unité\", size=18) #Affiche le titre des ordonnées\n",
    "plt.xlabel(\"Nom de l'axe et unité\", size=18) #Affiche le titre des abscisses\n",
    "plt.xlim(abs_debut, abs_fin) #Définit le début et la fin des abscisses.\n",
    "plt.axis('equal') #Les axes sont orthonormés\n",
    "plt.plot(x, z, 'o', color ='blue', label = 'Positions pointées') #Affiche les points expérimentaux\n",
    "plt.legend(fontsize=18)# Affiche la légende\n",
    "plt.show() #Affiche le graphique"
   ]
  },
  {
   "cell_type": "markdown",
   "metadata": {},
   "source": [
    "## ETAPE 3 : Ajout des vecteurs vitesse sur le graphique"
   ]
  },
  {
   "cell_type": "markdown",
   "metadata": {},
   "source": [
    " ### 1. Calcul des coordonnées des vecteurs vitesse"
   ]
  },
  {
   "cell_type": "markdown",
   "metadata": {},
   "source": [
    "Les coordonnées v_x et v_z des vecteurs vitesse du point \"i\" se calculent par les formules suivantes :\n",
    "\n",
    "$v_{x}[i] = \\dfrac{x_{[i+1]} - x_{[i]}} {\\Delta t}$\n",
    "\n",
    "$v_{z}[i] = \\dfrac{z_{[i+1]} - z_{[i]}} {\\Delta t}$"
   ]
  },
  {
   "cell_type": "markdown",
   "metadata": {},
   "source": [
    " ### 2. Définition de la fonction de calcul des coordonnées des vecteurs vitesse"
   ]
  },
  {
   "cell_type": "markdown",
   "metadata": {},
   "source": [
    "### A VOUS DE JOUER \n",
    "### A l'aide de l'expression de vz donnée ci-dessus dans le 1. et du calcul de vx donné dans la fonction \"vitesse\" ci-dessous , compléter la formule pour calculer vz"
   ]
  },
  {
   "cell_type": "code",
   "execution_count": 207,
   "metadata": {},
   "outputs": [],
   "source": [
    "def vitesse(x, z, delta_t): #la fonction se nomme vitesse\n",
    "    \n",
    "    vx = []\n",
    "    for i in range(0, len(x)-1): #création de la liste vx\n",
    "        vx.append((x[i+1]-x[i])/delta_t)\n",
    "        \n",
    "    vz = []\n",
    "    for j in range(0, len(z)-1): #création de la liste vz\n",
    "        vz.append(\"A modifier : Ecrire l'expression du calcul de vz\") \n",
    "  \n",
    "    return vx, vz"
   ]
  },
  {
   "cell_type": "markdown",
   "metadata": {},
   "source": [
    "### 3. Tracé des vecteurs vitesse sur le graphique"
   ]
  },
  {
   "cell_type": "code",
   "execution_count": 208,
   "metadata": {},
   "outputs": [],
   "source": [
    "vx, vz = vitesse(x, z, delta_t) #La fonction vitesse() retourne deux listes stockées dans vx et vz"
   ]
  },
  {
   "cell_type": "markdown",
   "metadata": {},
   "source": [
    "### A VOUS DE JOUER \n",
    "### Compléter le titre du graphique ainsi que les noms des axes avec leur unité."
   ]
  },
  {
   "cell_type": "code",
   "execution_count": 210,
   "metadata": {},
   "outputs": [
    {
     "data": {
      "image/png": "[encoded data removed]",
      "text/plain": [
       "<Figure size 864x576 with 1 Axes>"
      ]
     },
     "metadata": {
      "needs_background": "light"
     },
     "output_type": "display_data"
    }
   ],
   "source": [
    "plt.figure(figsize=(12,8)) #Définit la taille de l'affichage du graphique\n",
    "plt.grid() # Affiche une grille sur le graphique\n",
    "plt.title(\"Titre du graphique\", size=22) #Définit le titre du graphique\n",
    "plt.ylabel(\"Nom de l'axe avec son unité\", size=18) #Affiche le titre des ordonnées\n",
    "plt.xlabel(\"Nom de l'axe avec son unité\", size=18) #Affiche le titre des abscisses\n",
    "plt.xlim(abs_debut, abs_fin) #Définit le début et la fin des abscisses.\n",
    "plt.axis('equal') #Les axes sont orthonormés\n",
    "plt.plot(x, z, 'o', color ='blue', label = 'Positions pointées') #Affiche les points expérimentaux\n",
    "plt.legend(fontsize=18)# Affiche la légende\n",
    "\n",
    "for k in range (len(vx)):# ajout des vecteurs vitesse en rouge\n",
    "    plt.quiver(x[k], z[k], vx[k], vz[k], scale=19, scale_units='xy', color='red', angles='xy')\n"
   ]
  },
  {
   "cell_type": "markdown",
   "metadata": {},
   "source": [
    "## ETAPE 4 : Représentation des vecteurs variations de vitesse"
   ]
  },
  {
   "cell_type": "markdown",
   "metadata": {},
   "source": [
    " ### 1. Calcul des coordonnées des vecteurs variations de vitesse"
   ]
  },
  {
   "cell_type": "markdown",
   "metadata": {},
   "source": [
    "$\\Delta v_x[i] = v_x[i+1] - v_x[i]$\n",
    "\n",
    "$\\Delta v_z[i] = v_z[i+1] - v_z[i]$"
   ]
  },
  {
   "cell_type": "markdown",
   "metadata": {},
   "source": [
    " ### 2. Définition de la fonction de calcul des corrdonnées des vecteurs variations de vitesse"
   ]
  },
  {
   "cell_type": "markdown",
   "metadata": {},
   "source": [
    "### A VOUS DE JOUER \n",
    "### A l'aide des expressions de delta_vx et delta_vz données ci-dessus dans le 1. , compléter les formules ci-dessous pour calculer delta_vx et delta_vz"
   ]
  },
  {
   "cell_type": "code",
   "execution_count": 211,
   "metadata": {},
   "outputs": [],
   "source": [
    "def delta_v(vx, vz): #la fonction se nomme delta_v\n",
    "    \n",
    "    delta_vx = []\n",
    "    for i in range(0, len(vx)-1): #création de la liste delta_vx\n",
    "        delta_vx.append(\"A modifier : Ecrire l'expression du calcul de delta_vx\")\n",
    "        \n",
    "    delta_vz = []\n",
    "    for i in range(0, len(vz)-1): #création de la liste delta_vz\n",
    "        delta_vz.append(\"A modifier : Ecrire l'expression du calcul de delta_vz\")\n",
    "    \n",
    "    return delta_vx, delta_vz"
   ]
  },
  {
   "cell_type": "markdown",
   "metadata": {},
   "source": [
    "### 3. Tracé des vecteurs vitesse sur le graphique"
   ]
  },
  {
   "cell_type": "code",
   "execution_count": 212,
   "metadata": {},
   "outputs": [],
   "source": [
    "delta_vx, delta_vz = delta_v(vx, vz) #la fonction delta_v() retourne deux listes stockées dans delta_vx et delta_vz"
   ]
  },
  {
   "cell_type": "markdown",
   "metadata": {},
   "source": [
    "### A VOUS DE JOUER \n",
    "### Compléter le titre du graphique ainsi que les noms des axes avec leur unité."
   ]
  },
  {
   "cell_type": "code",
   "execution_count": 213,
   "metadata": {
    "scrolled": true
   },
   "outputs": [
    {
     "data": {
      "image/png": "[encoded data removed]",
      "text/plain": [
       "<Figure size 864x576 with 1 Axes>"
      ]
     },
     "metadata": {
      "needs_background": "light"
     },
     "output_type": "display_data"
    }
   ],
   "source": [
    "plt.figure(figsize=(12,8)) #Définit la taille de l'affichage du graphique\n",
    "plt.grid() # Affiche une grille sur le graphique\n",
    "plt.title(\"Titre du graphique\", size=22) #Définit le titre du graphique\n",
    "plt.ylabel(\"Nom de l'axe avec son unité\", size=18) #Affiche le titre des ordonnées\n",
    "plt.xlabel(\"Nom de l'axe avec son unité\", size=18) #Affiche le titre des abscisses\n",
    "plt.xlim(abs_debut, abs_fin) #Définit le début et la fin des abscisses.\n",
    "plt.axis('equal') #Les axes sont orthonormés\n",
    "plt.plot(x, z, 'o', color ='blue', label = 'Positions pointées') #Affiche les points expérimentaux\n",
    "plt.legend(fontsize=18)# Affiche la légende\n",
    "\n",
    "for i in range (len(vx)): # ajout des vecteurs vitesse en rouge\n",
    "    plt.quiver(x[i], z[i], vx[i], vz[i], scale=20, scale_units='xy', color='red', angles='xy')\n",
    "\n",
    "for j in range(len(delta_vx)): # ajout des vecteurs variations de vitesse en vert\n",
    "    plt.quiver(x[j+1], z[j+1], delta_vx[j], delta_vz[j], scale=5, scale_units='xy', color='green', angles='xy')"
   ]
  }
 ],
 "metadata": {
  "kernelspec": {
   "display_name": "Python 3",
   "language": "python",
   "name": "python3"
  },
  "language_info": {
   "codemirror_mode": {
    "name": "ipython",
    "version": 3
   },
   "file_extension": ".py",
   "mimetype": "text/x-python",
   "name": "python",
   "nbconvert_exporter": "python",
   "pygments_lexer": "ipython3",
   "version": "3.8.5"
  }
 },
 "nbformat": 4,
 "nbformat_minor": 4
}
