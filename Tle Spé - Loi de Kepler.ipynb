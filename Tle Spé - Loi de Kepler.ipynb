{
 "cells": [
  {
   "cell_type": "markdown",
   "metadata": {},
   "source": [
    "# Ce programme permet de montrer la validité de troisième loi de Kepler"
   ]
  },
  {
   "cell_type": "markdown",
   "metadata": {},
   "source": [
    "## Etape 0 : On importe la bibliothèque nécessaire"
   ]
  },
  {
   "cell_type": "code",
   "execution_count": 13,
   "metadata": {},
   "outputs": [],
   "source": [
    "import numpy as np #Bibliothèque de calcul scientifique\n",
    "import matplotlib.pyplot as plt #Bibliothèque d'affichage de graphiques\n",
    "import scipy.stats as sc #Bibliothèque de calcul scientifique"
   ]
  },
  {
   "cell_type": "markdown",
   "metadata": {},
   "source": [
    "## Etape 1 : On affiche les données utiles pour tester le programme"
   ]
  },
  {
   "cell_type": "code",
   "execution_count": 14,
   "metadata": {},
   "outputs": [
    {
     "name": "stdout",
     "output_type": "stream",
     "text": [
      "Vous trouverez ci-dessous les rayons et les periodes des orbites de Venus, la Terre, Mars et de Jupiter\n",
      "Venus : rayon orbite = 108 millions de km ; periode de revolution = 225 j \n",
      "Terre : rayon orbite = 150 millions de km ; periode de revolution = 365 j \n",
      "Mars : rayon orbite = 228 millions de km ; periode de revolution = 687 j \n",
      "Jupiter : rayon orbite = 778 millions de km ; periode de revolution = 4333 j \n"
     ]
    }
   ],
   "source": [
    "print(\"Vous trouverez ci-dessous les rayons et les periodes des orbites de Venus, la Terre, Mars et de Jupiter\")\n",
    "print(\"Venus : rayon orbite = 108 millions de km ; periode de revolution = 225 j \")\n",
    "print(\"Terre : rayon orbite = 150 millions de km ; periode de revolution = 365 j \")\n",
    "print(\"Mars : rayon orbite = 228 millions de km ; periode de revolution = 687 j \")\n",
    "print(\"Jupiter : rayon orbite = 778 millions de km ; periode de revolution = 4333 j \")"
   ]
  },
  {
   "cell_type": "markdown",
   "metadata": {},
   "source": [
    "## Etape 2 : On saisie les demi-grand axes des orbites ainsi que des périodes des planètes"
   ]
  },
  {
   "cell_type": "code",
   "execution_count": 15,
   "metadata": {},
   "outputs": [
    {
     "name": "stdout",
     "output_type": "stream",
     "text": [
      "Entrer le demi-grand axe de la 1ere planete en millions de km 108\n",
      "Le rayon est 108.0 millions de km.\n",
      "Entrer la periode de la 1ere planete en annees 0.6461\n",
      "La periode est 0.6461 annees.\n"
     ]
    }
   ],
   "source": [
    "a1 = float(input(\"Entrer le demi-grand axe de la 1ere planete en millions de km \"))\n",
    "print (\"Le rayon est\",a1,\"millions de km.\")\n",
    "T1 = float(input(\"Entrer la periode de la 1ere planete en annees \"))\n",
    "print (\"La periode est\",T1,\"annees.\")"
   ]
  },
  {
   "cell_type": "code",
   "execution_count": 16,
   "metadata": {},
   "outputs": [
    {
     "name": "stdout",
     "output_type": "stream",
     "text": [
      "Entrer le demi-grand axe de la 2eme planete en millions de km 150\n",
      "Le rayon est 150.0 millions de km.\n",
      "Entrer la periode de la 2eme planete en annees 1\n",
      "La periode est 1.0 annees.\n"
     ]
    }
   ],
   "source": [
    "a2 = float(input(\"Entrer le demi-grand axe de la 2eme planete en millions de km \"))\n",
    "print (\"Le rayon est\",a2,\"millions de km.\")\n",
    "T2 = float(input(\"Entrer la periode de la 2eme planete en annees \"))\n",
    "print (\"La periode est\",T2,\"annees.\")"
   ]
  },
  {
   "cell_type": "code",
   "execution_count": 17,
   "metadata": {},
   "outputs": [
    {
     "name": "stdout",
     "output_type": "stream",
     "text": [
      "Entrer le demi-grand axe de la 3eme planete en millions de km 228\n",
      "Le rayon est 228.0 millions de km.\n",
      "Entrer la periode de la 3eme planete en annees 1.88\n",
      "La periode est 1.88 annees.\n"
     ]
    }
   ],
   "source": [
    "a3 = float(input(\"Entrer le demi-grand axe de la 3eme planete en millions de km \"))\n",
    "print (\"Le rayon est\",a3,\"millions de km.\")\n",
    "T3 = float(input(\"Entrer la periode de la 3eme planete en annees \"))\n",
    "print (\"La periode est\",T3,\"annees.\")"
   ]
  },
  {
   "cell_type": "code",
   "execution_count": 18,
   "metadata": {},
   "outputs": [
    {
     "name": "stdout",
     "output_type": "stream",
     "text": [
      "Entrer le demi-grand axe de la 4eme planete en millions de km 778\n",
      "Le rayon est 778.0 millions de km.\n",
      "Entrer la periode de la 4eme planete en annees 11.87\n",
      "La periode est 11.87 annees.\n"
     ]
    }
   ],
   "source": [
    "a4 = float(input(\"Entrer le demi-grand axe de la 4eme planete en millions de km \"))\n",
    "print (\"Le rayon est\",a4,\"millions de km.\")\n",
    "T4 = float(input(\"Entrer la periode de la 4eme planete en annees \"))\n",
    "print (\"La periode est\",T4,\"annees.\")"
   ]
  },
  {
   "cell_type": "markdown",
   "metadata": {},
   "source": [
    "## Etape 3 : On crée des listes pour le calcul et l'affichage"
   ]
  },
  {
   "cell_type": "code",
   "execution_count": 19,
   "metadata": {},
   "outputs": [],
   "source": [
    "a = np.array([a1, a2, a3, a4])\n",
    "T = np.array([T1, T2, T3, T4])"
   ]
  },
  {
   "cell_type": "markdown",
   "metadata": {},
   "source": [
    "## Etape 4 : On crée des listes $a^3$ et $T^2$ , on modélise la répartition des points par une droite et on calcule la masse du corps central"
   ]
  },
  {
   "cell_type": "code",
   "execution_count": 20,
   "metadata": {},
   "outputs": [],
   "source": [
    "acube = (a*1e9)**3\n",
    "Tcarre = (T*24*3600)**2"
   ]
  },
  {
   "cell_type": "code",
   "execution_count": 21,
   "metadata": {},
   "outputs": [],
   "source": [
    "droite = np.polyfit(acube,Tcarre,1) #On crée un array contenant les coefficients d'ajustement du modèle affine"
   ]
  },
  {
   "cell_type": "code",
   "execution_count": 22,
   "metadata": {},
   "outputs": [],
   "source": [
    "G = 6.67e-11 #On définit la valeur de la constante de gravitation\n",
    "M = (4*(np.pi)**2)/(G*droite[0]) #On calcule la masse du Soleil grasse à la troisième loi de Newton"
   ]
  },
  {
   "cell_type": "markdown",
   "metadata": {},
   "source": [
    "## Etape 5 : Affichage du graphique"
   ]
  },
  {
   "cell_type": "code",
   "execution_count": 23,
   "metadata": {},
   "outputs": [
    {
     "name": "stdout",
     "output_type": "stream",
     "text": [
      "La masse du Soleil est  2.650e+35 kg\n",
      "Coeff directeur :  2.233e-24\n",
      "Ordonnee à l'origine :  4.885e+07\n"
     ]
    },
    {
     "data": {
      "image/png": "[encoded data removed]",
      "text/plain": [
       "<Figure size 432x288 with 1 Axes>"
      ]
     },
     "metadata": {
      "needs_background": "light"
     },
     "output_type": "display_data"
    }
   ],
   "source": [
    "plt.plot(acube, Tcarre, \"+\", color = \"red\")\n",
    "plt.grid()\n",
    "plt.xlabel('$a^3 (m^3)$')\n",
    "plt.ylabel('$T^2 (s^2)$')\n",
    "print (\"La masse du Soleil est \",\"%0.3e\" % M, \"kg\")\n",
    "print(\"Coeff directeur : \",\"%0.3e\" % droite[0])\n",
    "print(\"Ordonnee à l'origine : \",\"%0.3e\" % droite[1])\n",
    "Tcarremodelise = droite[0]*acube+droite[1]\n",
    "plt.plot(acube, Tcarremodelise, color = \"blue\")\n",
    "plt.title('$T^2 = f(a^3)$')\n",
    "plt.show()"
   ]
  }
 ],
 "metadata": {
  "kernelspec": {
   "display_name": "Python 3",
   "language": "python",
   "name": "python3"
  },
  "language_info": {
   "codemirror_mode": {
    "name": "ipython",
    "version": 3
   },
   "file_extension": ".py",
   "mimetype": "text/x-python",
   "name": "python",
   "nbconvert_exporter": "python",
   "pygments_lexer": "ipython3",
   "version": "3.8.10"
  }
 },
 "nbformat": 4,
 "nbformat_minor": 4
}
